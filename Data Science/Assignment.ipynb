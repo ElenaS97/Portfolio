{
 "cells": [
  {
   "cell_type": "markdown",
   "id": "1f184ed8",
   "metadata": {},
   "source": [
    "This report will explore a provided mock 1881 census data of an imaginary town. The town, modestly sized and situated between two larger cities with motorway connections, faces key strategic choices regarding development and investment.   The provided mock census data, used the Python Faker package, emulates the format of the 1881 UK census but reflects modern demographics. It includes fields such as name, age, gender, relationship to head of household, marital status, occupation, infirmity, and religion.  \n",
    "The primary questions that we will try to answer are the following:  \n",
    "(a) What should be built on an unoccupied plot of land that the local government wishes to develop?   \n",
    "(b) Which one of the following options (employment and training, old age care, spending on schooling, or general infrastructure) should be invested in?  \n"
   ]
  },
  {
   "cell_type": "markdown",
   "id": "5052e3ef",
   "metadata": {},
   "source": [
    "### Import libraries"
   ]
  },
  {
   "cell_type": "code",
   "execution_count": 2,
   "id": "fed2d36d-afb0-4f1a-94ec-86191ea202c3",
   "metadata": {},
   "outputs": [],
   "source": [
    "import csv\n",
    "import pandas as pd\n",
    "import numpy as np\n",
    "import seaborn as sns\n",
    "import matplotlib as plt\n",
    "import matplotlib.pyplot as plt"
   ]
  },
  {
   "cell_type": "markdown",
   "id": "44d06b32-f27a-46ea-a694-096ea4eb223d",
   "metadata": {},
   "source": [
    "### Data cleaning"
   ]
  },
  {
   "cell_type": "markdown",
   "id": "9d660e4c",
   "metadata": {},
   "source": [
    "The provided dataset required cleaning and preparation to analyse. The dataset contained various issues, including:  \n",
    "  •\tMissing values were detected in fields such as Relationship to Head of House, Marital Status, Religion, and Infirmity.  \n",
    "  •\tInconsistent Marital Status entries, especially for minors (e.g., some underage individuals marked as Married).  \n",
    "  •\tInvalid ages (e.g., over 100, string or float numbers).  \n",
    "  •\tEmpty strings such as “N/A”, “Nan”, “NaN”.  \n",
    "  •\tDifferent format in names in Marital Status such as M, D, S, W, Married, Widowed, Single, Divorced.  \n",
    "  •\tDifferent format in names in Gender such as M, m, F, f, male, female.   \n",
    "The following steps were undertaken:  \n",
    "  •\tRemoving duplicates.  \n",
    "  •\tConvert age to median age (e.g., age over 100).  \n",
    "  •\tPredicting Marital Status using the column Relationship to Head of House.   \n",
    "  •\tImputing missing data (e.g., if Religion is missing, we will fill it with “Unknown” status).  "
   ]
  },
  {
   "cell_type": "code",
   "execution_count": null,
   "id": "443f3cdd-688d-4026-9e4d-0de1fe67005c",
   "metadata": {
    "scrolled": true
   },
   "outputs": [
    {
     "name": "stdout",
     "output_type": "stream",
     "text": [
      "     House Number           Street First Name        Surname Age  \\\n",
      "0               1    Windsor Plaza    Cameron  Johnson-White  37   \n",
      "1               1    Windsor Plaza  Katherine  Johnson-White  26   \n",
      "2               1    Windsor Plaza       Jack           Cook  41   \n",
      "3               2    Windsor Plaza      Marie          Allen  44   \n",
      "4               3    Windsor Plaza     Janice       Harrison  55   \n",
      "...           ...              ...        ...            ...  ..   \n",
      "8170            1  Wilson Barracks      Allan          Begum  26   \n",
      "8171            1  Wilson Barracks    Melissa          Evans  25   \n",
      "8172            1  Wilson Barracks      Carly          Patel  25   \n",
      "8173            1  Wilson Barracks       Gary      Tomlinson  26   \n",
      "8174            1  Wilson Barracks     Joanna         Wright  36   \n",
      "\n",
      "     Relationship to Head of House Marital Status  Gender  \\\n",
      "0                             Head        Married    Male   \n",
      "1                             Wife        Married  Female   \n",
      "2                           Lodger       Divorced    Male   \n",
      "3                             Head         Single  Female   \n",
      "4                             Head         Single  Female   \n",
      "...                            ...            ...     ...   \n",
      "8170                          Head         Single    Male   \n",
      "8171                           NaN       Divorced  Female   \n",
      "8172                           NaN         Single  Female   \n",
      "8173                           NaN         Single    Male   \n",
      "8174                           NaN         Single  Female   \n",
      "\n",
      "                         Occupation Infirmity   Religion  \n",
      "0               Landscape architect       NaN  Christian  \n",
      "1           Presenter, broadcasting       NaN        NaN  \n",
      "2                      Risk manager       NaN  Methodist  \n",
      "3                           Midwife       NaN   Catholic  \n",
      "4                 Warehouse manager       NaN  Christian  \n",
      "...                             ...       ...        ...  \n",
      "8170          Nutritional therapist       NaN  Christian  \n",
      "8171  Development worker, community       NaN   Catholic  \n",
      "8172           Journalist, magazine       NaN       Sikh  \n",
      "8173                Ophthalmologist       NaN        NaN  \n",
      "8174        Insurance risk surveyor       NaN        NaN  \n",
      "\n",
      "[8175 rows x 11 columns]\n"
     ]
    }
   ],
   "source": [
    "# Load the dataset\n",
    "df = pd.read_csv('W-T2_A24census-1.csv')\n",
    "print(df)"
   ]
  },
  {
   "cell_type": "code",
   "execution_count": 16,
   "id": "10f9a158-4457-492c-a3a0-bc81be1ae00f",
   "metadata": {},
   "outputs": [
    {
     "data": {
      "application/vnd.microsoft.datawrangler.viewer.v0+json": {
       "columns": [
        {
         "name": "index",
         "rawType": "int64",
         "type": "integer"
        },
        {
         "name": "House Number",
         "rawType": "object",
         "type": "string"
        },
        {
         "name": "Street",
         "rawType": "object",
         "type": "string"
        },
        {
         "name": "First Name",
         "rawType": "object",
         "type": "string"
        },
        {
         "name": "Surname",
         "rawType": "object",
         "type": "string"
        },
        {
         "name": "Age",
         "rawType": "object",
         "type": "string"
        },
        {
         "name": "Relationship to Head of House",
         "rawType": "object",
         "type": "string"
        },
        {
         "name": "Marital Status",
         "rawType": "object",
         "type": "string"
        },
        {
         "name": "Gender",
         "rawType": "object",
         "type": "string"
        },
        {
         "name": "Occupation",
         "rawType": "object",
         "type": "string"
        },
        {
         "name": "Infirmity",
         "rawType": "object",
         "type": "unknown"
        },
        {
         "name": "Religion",
         "rawType": "object",
         "type": "unknown"
        }
       ],
       "conversionMethod": "pd.DataFrame",
       "ref": "f460c251-1337-4b6b-856e-e4b5b5820032",
       "rows": [
        [
         "0",
         "1",
         "Windsor Plaza",
         "Cameron",
         "Johnson-White",
         "37",
         "Head",
         "Married",
         "Male",
         "Landscape architect",
         null,
         "Christian"
        ],
        [
         "1",
         "1",
         "Windsor Plaza",
         "Katherine",
         "Johnson-White",
         "26",
         "Wife",
         "Married",
         "Female",
         "Presenter, broadcasting",
         null,
         null
        ],
        [
         "2",
         "1",
         "Windsor Plaza",
         "Jack",
         "Cook",
         "41",
         "Lodger",
         "Divorced",
         "Male",
         "Risk manager",
         null,
         "Methodist"
        ],
        [
         "3",
         "2",
         "Windsor Plaza",
         "Marie",
         "Allen",
         "44",
         "Head",
         "Single",
         "Female",
         "Midwife",
         null,
         "Catholic"
        ],
        [
         "4",
         "3",
         "Windsor Plaza",
         "Janice",
         "Harrison",
         "55",
         "Head",
         "Single",
         "Female",
         "Warehouse manager",
         null,
         "Christian"
        ]
       ],
       "shape": {
        "columns": 11,
        "rows": 5
       }
      },
      "text/html": [
       "<div>\n",
       "<style scoped>\n",
       "    .dataframe tbody tr th:only-of-type {\n",
       "        vertical-align: middle;\n",
       "    }\n",
       "\n",
       "    .dataframe tbody tr th {\n",
       "        vertical-align: top;\n",
       "    }\n",
       "\n",
       "    .dataframe thead th {\n",
       "        text-align: right;\n",
       "    }\n",
       "</style>\n",
       "<table border=\"1\" class=\"dataframe\">\n",
       "  <thead>\n",
       "    <tr style=\"text-align: right;\">\n",
       "      <th></th>\n",
       "      <th>House Number</th>\n",
       "      <th>Street</th>\n",
       "      <th>First Name</th>\n",
       "      <th>Surname</th>\n",
       "      <th>Age</th>\n",
       "      <th>Relationship to Head of House</th>\n",
       "      <th>Marital Status</th>\n",
       "      <th>Gender</th>\n",
       "      <th>Occupation</th>\n",
       "      <th>Infirmity</th>\n",
       "      <th>Religion</th>\n",
       "    </tr>\n",
       "  </thead>\n",
       "  <tbody>\n",
       "    <tr>\n",
       "      <th>0</th>\n",
       "      <td>1</td>\n",
       "      <td>Windsor Plaza</td>\n",
       "      <td>Cameron</td>\n",
       "      <td>Johnson-White</td>\n",
       "      <td>37</td>\n",
       "      <td>Head</td>\n",
       "      <td>Married</td>\n",
       "      <td>Male</td>\n",
       "      <td>Landscape architect</td>\n",
       "      <td>NaN</td>\n",
       "      <td>Christian</td>\n",
       "    </tr>\n",
       "    <tr>\n",
       "      <th>1</th>\n",
       "      <td>1</td>\n",
       "      <td>Windsor Plaza</td>\n",
       "      <td>Katherine</td>\n",
       "      <td>Johnson-White</td>\n",
       "      <td>26</td>\n",
       "      <td>Wife</td>\n",
       "      <td>Married</td>\n",
       "      <td>Female</td>\n",
       "      <td>Presenter, broadcasting</td>\n",
       "      <td>NaN</td>\n",
       "      <td>NaN</td>\n",
       "    </tr>\n",
       "    <tr>\n",
       "      <th>2</th>\n",
       "      <td>1</td>\n",
       "      <td>Windsor Plaza</td>\n",
       "      <td>Jack</td>\n",
       "      <td>Cook</td>\n",
       "      <td>41</td>\n",
       "      <td>Lodger</td>\n",
       "      <td>Divorced</td>\n",
       "      <td>Male</td>\n",
       "      <td>Risk manager</td>\n",
       "      <td>NaN</td>\n",
       "      <td>Methodist</td>\n",
       "    </tr>\n",
       "    <tr>\n",
       "      <th>3</th>\n",
       "      <td>2</td>\n",
       "      <td>Windsor Plaza</td>\n",
       "      <td>Marie</td>\n",
       "      <td>Allen</td>\n",
       "      <td>44</td>\n",
       "      <td>Head</td>\n",
       "      <td>Single</td>\n",
       "      <td>Female</td>\n",
       "      <td>Midwife</td>\n",
       "      <td>NaN</td>\n",
       "      <td>Catholic</td>\n",
       "    </tr>\n",
       "    <tr>\n",
       "      <th>4</th>\n",
       "      <td>3</td>\n",
       "      <td>Windsor Plaza</td>\n",
       "      <td>Janice</td>\n",
       "      <td>Harrison</td>\n",
       "      <td>55</td>\n",
       "      <td>Head</td>\n",
       "      <td>Single</td>\n",
       "      <td>Female</td>\n",
       "      <td>Warehouse manager</td>\n",
       "      <td>NaN</td>\n",
       "      <td>Christian</td>\n",
       "    </tr>\n",
       "  </tbody>\n",
       "</table>\n",
       "</div>"
      ],
      "text/plain": [
       "  House Number         Street First Name        Surname Age  \\\n",
       "0            1  Windsor Plaza    Cameron  Johnson-White  37   \n",
       "1            1  Windsor Plaza  Katherine  Johnson-White  26   \n",
       "2            1  Windsor Plaza       Jack           Cook  41   \n",
       "3            2  Windsor Plaza      Marie          Allen  44   \n",
       "4            3  Windsor Plaza     Janice       Harrison  55   \n",
       "\n",
       "  Relationship to Head of House Marital Status  Gender  \\\n",
       "0                          Head        Married    Male   \n",
       "1                          Wife        Married  Female   \n",
       "2                        Lodger       Divorced    Male   \n",
       "3                          Head         Single  Female   \n",
       "4                          Head         Single  Female   \n",
       "\n",
       "                Occupation Infirmity   Religion  \n",
       "0      Landscape architect       NaN  Christian  \n",
       "1  Presenter, broadcasting       NaN        NaN  \n",
       "2             Risk manager       NaN  Methodist  \n",
       "3                  Midwife       NaN   Catholic  \n",
       "4        Warehouse manager       NaN  Christian  "
      ]
     },
     "execution_count": 16,
     "metadata": {},
     "output_type": "execute_result"
    }
   ],
   "source": [
    "df.head(5)"
   ]
  },
  {
   "cell_type": "code",
   "execution_count": 17,
   "id": "95b04fb6-61fc-4b2d-85f4-a99ca4da21fc",
   "metadata": {},
   "outputs": [
    {
     "name": "stdout",
     "output_type": "stream",
     "text": [
      "<class 'pandas.core.frame.DataFrame'>\n",
      "RangeIndex: 8175 entries, 0 to 8174\n",
      "Data columns (total 11 columns):\n",
      " #   Column                         Non-Null Count  Dtype \n",
      "---  ------                         --------------  ----- \n",
      " 0   House Number                   8175 non-null   object\n",
      " 1   Street                         8175 non-null   object\n",
      " 2   First Name                     8175 non-null   object\n",
      " 3   Surname                        8175 non-null   object\n",
      " 4   Age                            8175 non-null   object\n",
      " 5   Relationship to Head of House  7687 non-null   object\n",
      " 6   Marital Status                 6351 non-null   object\n",
      " 7   Gender                         8175 non-null   object\n",
      " 8   Occupation                     8175 non-null   object\n",
      " 9   Infirmity                      63 non-null     object\n",
      " 10  Religion                       3546 non-null   object\n",
      "dtypes: object(11)\n",
      "memory usage: 702.7+ KB\n"
     ]
    }
   ],
   "source": [
    "df.info()"
   ]
  },
  {
   "cell_type": "code",
   "execution_count": 18,
   "id": "370bb432-a006-4b3c-ba49-d43108c52655",
   "metadata": {},
   "outputs": [
    {
     "data": {
      "application/vnd.microsoft.datawrangler.viewer.v0+json": {
       "columns": [
        {
         "name": "index",
         "rawType": "object",
         "type": "string"
        },
        {
         "name": "House Number",
         "rawType": "object",
         "type": "unknown"
        },
        {
         "name": "Street",
         "rawType": "object",
         "type": "unknown"
        },
        {
         "name": "First Name",
         "rawType": "object",
         "type": "unknown"
        },
        {
         "name": "Surname",
         "rawType": "object",
         "type": "unknown"
        },
        {
         "name": "Age",
         "rawType": "object",
         "type": "unknown"
        },
        {
         "name": "Relationship to Head of House",
         "rawType": "object",
         "type": "unknown"
        },
        {
         "name": "Marital Status",
         "rawType": "object",
         "type": "unknown"
        },
        {
         "name": "Gender",
         "rawType": "object",
         "type": "unknown"
        },
        {
         "name": "Occupation",
         "rawType": "object",
         "type": "unknown"
        },
        {
         "name": "Infirmity",
         "rawType": "object",
         "type": "unknown"
        },
        {
         "name": "Religion",
         "rawType": "object",
         "type": "unknown"
        }
       ],
       "conversionMethod": "pd.DataFrame",
       "ref": "0f242a81-770d-4234-ab3e-a88477b0b986",
       "rows": [
        [
         "count",
         "8175",
         "8175",
         "8175",
         "8175",
         "8175",
         "7687",
         "6351",
         "8175",
         "8175",
         "63",
         "3546"
        ],
        [
         "unique",
         "251",
         "104",
         "366",
         "644",
         "118",
         "21",
         "8",
         "8",
         "1109",
         "7",
         "14"
        ],
        [
         "top",
         "1",
         "Gregory Ports",
         "Stephanie",
         "Smith",
         "39",
         "Head",
         "Single",
         "Female",
         "Student",
         " ",
         "Christian"
        ],
        [
         "freq",
         "331",
         "791",
         "39",
         "215",
         "158",
         "3231",
         "2868",
         "4185",
         "1546",
         "14",
         "1924"
        ]
       ],
       "shape": {
        "columns": 11,
        "rows": 4
       }
      },
      "text/html": [
       "<div>\n",
       "<style scoped>\n",
       "    .dataframe tbody tr th:only-of-type {\n",
       "        vertical-align: middle;\n",
       "    }\n",
       "\n",
       "    .dataframe tbody tr th {\n",
       "        vertical-align: top;\n",
       "    }\n",
       "\n",
       "    .dataframe thead th {\n",
       "        text-align: right;\n",
       "    }\n",
       "</style>\n",
       "<table border=\"1\" class=\"dataframe\">\n",
       "  <thead>\n",
       "    <tr style=\"text-align: right;\">\n",
       "      <th></th>\n",
       "      <th>House Number</th>\n",
       "      <th>Street</th>\n",
       "      <th>First Name</th>\n",
       "      <th>Surname</th>\n",
       "      <th>Age</th>\n",
       "      <th>Relationship to Head of House</th>\n",
       "      <th>Marital Status</th>\n",
       "      <th>Gender</th>\n",
       "      <th>Occupation</th>\n",
       "      <th>Infirmity</th>\n",
       "      <th>Religion</th>\n",
       "    </tr>\n",
       "  </thead>\n",
       "  <tbody>\n",
       "    <tr>\n",
       "      <th>count</th>\n",
       "      <td>8175</td>\n",
       "      <td>8175</td>\n",
       "      <td>8175</td>\n",
       "      <td>8175</td>\n",
       "      <td>8175</td>\n",
       "      <td>7687</td>\n",
       "      <td>6351</td>\n",
       "      <td>8175</td>\n",
       "      <td>8175</td>\n",
       "      <td>63</td>\n",
       "      <td>3546</td>\n",
       "    </tr>\n",
       "    <tr>\n",
       "      <th>unique</th>\n",
       "      <td>251</td>\n",
       "      <td>104</td>\n",
       "      <td>366</td>\n",
       "      <td>644</td>\n",
       "      <td>118</td>\n",
       "      <td>21</td>\n",
       "      <td>8</td>\n",
       "      <td>8</td>\n",
       "      <td>1109</td>\n",
       "      <td>7</td>\n",
       "      <td>14</td>\n",
       "    </tr>\n",
       "    <tr>\n",
       "      <th>top</th>\n",
       "      <td>1</td>\n",
       "      <td>Gregory Ports</td>\n",
       "      <td>Stephanie</td>\n",
       "      <td>Smith</td>\n",
       "      <td>39</td>\n",
       "      <td>Head</td>\n",
       "      <td>Single</td>\n",
       "      <td>Female</td>\n",
       "      <td>Student</td>\n",
       "      <td></td>\n",
       "      <td>Christian</td>\n",
       "    </tr>\n",
       "    <tr>\n",
       "      <th>freq</th>\n",
       "      <td>331</td>\n",
       "      <td>791</td>\n",
       "      <td>39</td>\n",
       "      <td>215</td>\n",
       "      <td>158</td>\n",
       "      <td>3231</td>\n",
       "      <td>2868</td>\n",
       "      <td>4185</td>\n",
       "      <td>1546</td>\n",
       "      <td>14</td>\n",
       "      <td>1924</td>\n",
       "    </tr>\n",
       "  </tbody>\n",
       "</table>\n",
       "</div>"
      ],
      "text/plain": [
       "       House Number         Street First Name Surname   Age  \\\n",
       "count          8175           8175       8175    8175  8175   \n",
       "unique          251            104        366     644   118   \n",
       "top               1  Gregory Ports  Stephanie   Smith    39   \n",
       "freq            331            791         39     215   158   \n",
       "\n",
       "       Relationship to Head of House Marital Status  Gender Occupation  \\\n",
       "count                           7687           6351    8175       8175   \n",
       "unique                            21              8       8       1109   \n",
       "top                             Head         Single  Female    Student   \n",
       "freq                            3231           2868    4185       1546   \n",
       "\n",
       "       Infirmity   Religion  \n",
       "count         63       3546  \n",
       "unique         7         14  \n",
       "top               Christian  \n",
       "freq          14       1924  "
      ]
     },
     "execution_count": 18,
     "metadata": {},
     "output_type": "execute_result"
    }
   ],
   "source": [
    "df.describe()"
   ]
  },
  {
   "cell_type": "code",
   "execution_count": null,
   "id": "70045e93-3956-4276-b594-22126ff07e09",
   "metadata": {},
   "outputs": [
    {
     "data": {
      "text/plain": [
       "House Number                        0\n",
       "Street                              0\n",
       "First Name                          0\n",
       "Surname                             0\n",
       "Age                                 0\n",
       "Relationship to Head of House     488\n",
       "Marital Status                   1824\n",
       "Gender                              0\n",
       "Occupation                          0\n",
       "Infirmity                        8112\n",
       "Religion                         4629\n",
       "dtype: int64"
      ]
     },
     "execution_count": 19,
     "metadata": {},
     "output_type": "execute_result"
    }
   ],
   "source": [
    "# Check missing value\n",
    "df.isnull().sum()"
   ]
  },
  {
   "cell_type": "markdown",
   "id": "0a2b6e0b-baec-47ad-bd63-c335dc0e2e48",
   "metadata": {},
   "source": [
    "#### Cleaning Age"
   ]
  },
  {
   "cell_type": "code",
   "execution_count": 20,
   "id": "ae97b092-faad-4a4e-b943-a19856c411c0",
   "metadata": {},
   "outputs": [
    {
     "data": {
      "text/plain": [
       "array(['37', '26', '41', '44', '55', '63', '36', '38', '57', '81', '79',\n",
       "       '58', '65', '43', '53', '32', '34', '9', '20', '47', '19', '21',\n",
       "       '45', '77', '68', '73', '75', '78', '54', '50', '80', '42', '66',\n",
       "       '23', '24', '70', '27', '76', '35', '29', '62', '71', '46', '30',\n",
       "       '13', '61', '8', '7', '64', '5', '4', '0', '56', '52', '17', '16',\n",
       "       '3', '14', '28', '18', '15', '51', '31', '11', '49', '60', '33',\n",
       "       '2', '1', '40', '10', '83', '48', '59', '25', '6', '39', '69',\n",
       "       '67', '22', '74', '86', '12', '84', '72', '87', '86.15361167',\n",
       "       '88', '105', '102', '91', '96', '82', '89', '98', '74.31823574',\n",
       "       '70.31823574', '94', '101', '85', '90', '103', '97', '93', '92',\n",
       "       '107', '62.87489477', '78.10140531', '80.10140531', '99', 'three',\n",
       "       '80.99563212', '87.99563212', '114', '117', '55.53517458',\n",
       "       '61.53517458', '95'], dtype=object)"
      ]
     },
     "execution_count": 20,
     "metadata": {},
     "output_type": "execute_result"
    }
   ],
   "source": [
    "df['Age'].unique()"
   ]
  },
  {
   "cell_type": "code",
   "execution_count": null,
   "id": "a921a371-9c00-4d95-a8ac-f86fed2b5fc6",
   "metadata": {},
   "outputs": [
    {
     "data": {
      "text/plain": [
       "array([ 37,  26,  41,  44,  55,  63,  36,  38,  57,  81,  79,  58,  65,\n",
       "        43,  53,  32,  34,   9,  20,  47,  19,  21,  45,  77,  68,  73,\n",
       "        75,  78,  54,  50,  80,  42,  66,  23,  24,  70,  27,  76,  35,\n",
       "        29,  62,  71,  46,  30,  13,  61,   8,   7,  64,   5,   4,   0,\n",
       "        56,  52,  17,  16,   3,  14,  28,  18,  15,  51,  31,  11,  49,\n",
       "        60,  33,   2,   1,  40,  10,  83,  48,  59,  25,   6,  39,  69,\n",
       "        67,  22,  74,  86,  12,  84,  72,  87,  88, 105, 102,  91,  96,\n",
       "        82,  89,  98,  94, 101,  85,  90, 103,  97,  93,  92, 107,  99,\n",
       "       114, 117,  95])"
      ]
     },
     "execution_count": 21,
     "metadata": {},
     "output_type": "execute_result"
    }
   ],
   "source": [
    "df['Age'] = df['Age'].replace(\"three\",3)\n",
    "df['Age'] = df['Age'].astype(float).astype(int)\n",
    "df['Age'] = df['Age'].astype(float).round().astype(int)\n",
    "# The result\n",
    "df['Age'].unique()"
   ]
  },
  {
   "cell_type": "code",
   "execution_count": 22,
   "id": "f7d2d63a-ec64-4c31-98f2-1e01f60bb7b7",
   "metadata": {},
   "outputs": [
    {
     "name": "stdout",
     "output_type": "stream",
     "text": [
      "[37 26 41 44 55 63 36 38 57 81 79 58 65 43 53 32 34  9 20 47 19 21 45 77\n",
      " 68 73 75 78 54 50 80 42 66 23 24 70 27 76 35 29 62 71 46 30 13 61  8  7\n",
      " 64  5  4  0 56 52 17 16  3 14 28 18 15 51 31 11 49 60 33  2  1 40 10 83\n",
      " 48 59 25  6 39 69 67 22 74 86 12 84 72 87 88 91 96 82 89 98 94 85 90 97\n",
      " 93 92 99 95]\n"
     ]
    }
   ],
   "source": [
    "# Calculate the median age\n",
    "median_age = df['Age'].median()\n",
    "\n",
    "# Function to replace age > 100 with median age\n",
    "def replace_age(age):\n",
    "  if age > 100:\n",
    "    return median_age\n",
    "  else:\n",
    "    return age\n",
    "\n",
    "# Apply the function to the 'Age' column\n",
    "df['Age'] = df['Age'].apply(replace_age)\n",
    "\n",
    "# Convert ages to integers to remove decimal points\n",
    "df['Age'] = df['Age'].astype(int)\n",
    "\n",
    "# Print unique values in the 'Age' column\n",
    "print(df['Age'].unique())\n",
    "\n",
    "# Save the corrected DataFrame to the existing file\n",
    "df.to_csv('W-T2_A24census-1 - Copy_cor.csv', index=False)"
   ]
  },
  {
   "cell_type": "markdown",
   "id": "ef2ea436-30d9-40ea-9461-460717763784",
   "metadata": {},
   "source": [
    "#### Clean Religion"
   ]
  },
  {
   "cell_type": "code",
   "execution_count": 23,
   "id": "4da11e94-deb4-4184-a3e9-0f787c2f451e",
   "metadata": {},
   "outputs": [
    {
     "data": {
      "text/plain": [
       "array(['Christian', nan, 'Methodist', 'Catholic', 'Muslim', 'Sikh',\n",
       "       'Jewish', 'Baptist', 'Agnostic', 'Nope', ' ', 'Housekeeper',\n",
       "       'Private', 'Quaker', 'Buddist'], dtype=object)"
      ]
     },
     "execution_count": 23,
     "metadata": {},
     "output_type": "execute_result"
    }
   ],
   "source": [
    "df['Religion'].unique()"
   ]
  },
  {
   "cell_type": "code",
   "execution_count": 24,
   "id": "e4315021-2c84-4c4d-bb0b-24f739895400",
   "metadata": {},
   "outputs": [],
   "source": [
    "# Clean the data by filling NaN values\n",
    "df['Religion'] = df['Religion'].fillna(str(\"Unknown\"))"
   ]
  },
  {
   "cell_type": "code",
   "execution_count": null,
   "id": "07b9ea00",
   "metadata": {},
   "outputs": [],
   "source": [
    "# Clean the joking religion names\n",
    "df['Religion'] = df['Religion'].replace(['Mode', 'Nope', 'Private', 'Housekeeper', ' '], 'Unknown')"
   ]
  },
  {
   "cell_type": "code",
   "execution_count": 26,
   "id": "3d3c2035",
   "metadata": {},
   "outputs": [
    {
     "data": {
      "text/plain": [
       "array(['Christian', 'Unknown', 'Methodist', 'Catholic', 'Muslim', 'Sikh',\n",
       "       'Jewish', 'Baptist', 'Agnostic', 'Quaker', 'Buddist'], dtype=object)"
      ]
     },
     "execution_count": 26,
     "metadata": {},
     "output_type": "execute_result"
    }
   ],
   "source": [
    "df['Religion'].unique()"
   ]
  },
  {
   "cell_type": "code",
   "execution_count": 3,
   "id": "f53195e3",
   "metadata": {},
   "outputs": [
    {
     "name": "stderr",
     "output_type": "stream",
     "text": [
      "C:\\Users\\sofji\\AppData\\Local\\Temp\\ipykernel_21544\\2475933367.py:16: FutureWarning: The default of observed=False is deprecated and will be changed to True in a future version of pandas. Pass observed=False to retain current behavior or observed=True to adopt the future default and silence this warning.\n",
      "  religion_by_age = df.groupby(['Age Group', 'Religion']).size().unstack(fill_value=0)\n"
     ]
    },
    {
     "data": {
      "image/png": "[encoded data removed]",
      "text/plain": [
       "<Figure size 1200x600 with 1 Axes>"
      ]
     },
     "metadata": {},
     "output_type": "display_data"
    }
   ],
   "source": [
    "# Identify increasing or decreasing religeons.\n",
    "df = pd.read_csv('W-T2_A24census-1 - Copy_cor.csv')\n",
    "\n",
    "# Clean Age and Religion\n",
    "df['Age'] = pd.to_numeric(df['Age'], errors='coerce')\n",
    "df = df.dropna(subset=['Age', 'Religion'])\n",
    "df['Age'] = df['Age'].astype(int)\n",
    "df['Religion'] = df['Religion'].astype(str).str.strip().str.title()\n",
    "\n",
    "# Create age groups\n",
    "bins = [0, 18, 30, 45, 60, 75, 100]\n",
    "labels = ['0–17', '18–29', '30–44', '45–59', '60–74', '75+']\n",
    "df['Age Group'] = pd.cut(df['Age'], bins=bins, labels=labels, right=False)\n",
    "\n",
    "# Count people per religion per age group\n",
    "religion_by_age = df.groupby(['Age Group', 'Religion']).size().unstack(fill_value=0)\n",
    "\n",
    "# Plot: stacked bar chart\n",
    "religion_by_age.plot(kind='bar', stacked=True, figsize=(12, 6), colormap='tab20')\n",
    "plt.title('Religious Affiliation by Age Group')\n",
    "plt.xlabel('Age Group')\n",
    "plt.ylabel('Number of People')\n",
    "plt.legend(title='Religion', bbox_to_anchor=(1.05, 1), loc='upper left')\n",
    "plt.tight_layout()\n",
    "plt.savefig('religion.png', bbox_inches='tight') \n",
    "plt.show()"
   ]
  },
  {
   "cell_type": "markdown",
   "id": "6e67554f",
   "metadata": {},
   "source": [
    "Based on the findings, the majority of individuals from 0 to 17 are children who do not decided about religion, also, in each age group we can find those people, but in the age from 60 to 75+ the number is decreasing, especially in Catholic and Unknown religion. Then, numerous residents identify as Christian, roughly it is in the same level in each age group. On second place is Catholic and on third is Methodist. "
   ]
  },
  {
   "cell_type": "markdown",
   "id": "8c759369-cd02-4f9e-8e5b-1cb0cd1220d1",
   "metadata": {},
   "source": [
    "#### Changing names to one format"
   ]
  },
  {
   "cell_type": "code",
   "execution_count": 27,
   "id": "bcd2edbc-d429-4a7d-8e45-3a3c96a9d8f9",
   "metadata": {},
   "outputs": [
    {
     "name": "stdout",
     "output_type": "stream",
     "text": [
      "['Married' 'Divorced' 'Single' 'Widowed' nan]\n"
     ]
    }
   ],
   "source": [
    "name_mapping = {\n",
    "    'D': 'Divorced',  # Replace with the actual meaning of 'D'\n",
    "    'S': 'Single',    # Replace with the actual meaning of 'S'\n",
    "    'W': 'Widowed',   # Replace with the actual meaning of 'W'\n",
    "    'M': 'Married'    # Replace with the actual meaning of 'M'\n",
    "}\n",
    "\n",
    "# Use the replace method to change the names\n",
    "df['Marital Status'] = df['Marital Status'].replace(name_mapping)\n",
    "\n",
    "# Save the corrected DataFrame to a new file\n",
    "df.to_csv('W-T2_A24census-1 - Copy_cor.csv', index=False)\n",
    "\n",
    "print(df['Marital Status'].unique())"
   ]
  },
  {
   "cell_type": "code",
   "execution_count": 28,
   "id": "80435c93-f55c-45da-8892-eebe51a02ba4",
   "metadata": {},
   "outputs": [
    {
     "name": "stdout",
     "output_type": "stream",
     "text": [
      "['Male' 'Female']\n"
     ]
    }
   ],
   "source": [
    "name_gender = {\n",
    "    'M': 'Male',  \n",
    "    'm': 'Male',    \n",
    "    'F': 'Female',   \n",
    "    'f': 'Female',    \n",
    "    'male': 'Male',\n",
    "    'female': 'Female',\n",
    "}\n",
    "\n",
    "# Use the replace method to change the names\n",
    "df['Gender'] = df['Gender'].replace(name_gender)\n",
    "\n",
    "# Save the corrected DataFrame to a new file\n",
    "df.to_csv('W-T2_A24census-1 - Copy_cor.csv', index=False)\n",
    "\n",
    "print(df['Gender'].unique())"
   ]
  },
  {
   "cell_type": "markdown",
   "id": "caaa7361-b260-4d6a-acf6-9994e8d05dee",
   "metadata": {},
   "source": [
    "#### Clean Relationship to Head of House"
   ]
  },
  {
   "cell_type": "code",
   "execution_count": null,
   "id": "a4f738e8-9ee9-4380-b16e-721a2d2b7ad1",
   "metadata": {},
   "outputs": [
    {
     "name": "stdout",
     "output_type": "stream",
     "text": [
      "Index(['Smith', 'Jones', 'Williams', 'Taylor', 'Brown', 'Davies', 'Evans',\n",
      "       'Roberts', 'Johnson', 'Thomas',\n",
      "       ...\n",
      "       'Cook-Thomas', 'O'Brien-Townsend', 'Chandler-Warner', 'Johnson-Mason',\n",
      "       'Parry-Lynch', 'Phillips-Doyle', 'Nixon', 'Simmons-Chambers', 'Collier',\n",
      "       'Arnold'],\n",
      "      dtype='object', name='Surname', length=568)\n"
     ]
    }
   ],
   "source": [
    "duplicated_surnames = df[df['Surname'].duplicated()]['Surname']\n",
    "\n",
    "surname_counts = df['Surname'].value_counts()\n",
    "\n",
    "# Calculate more that 1 surname\n",
    "print(surname_counts[surname_counts > 1].index)"
   ]
  },
  {
   "cell_type": "code",
   "execution_count": null,
   "id": "3f90bb9b-19ab-4117-8dfc-d9bd76c648be",
   "metadata": {},
   "outputs": [
    {
     "name": "stdout",
     "output_type": "stream",
     "text": [
      "Relationship to Head of House\n",
      "Head             442\n",
      "Son               56\n",
      "Daughter          39\n",
      "Husband            9\n",
      "Partner            6\n",
      "Wife               5\n",
      "Lodger             4\n",
      "Granddaughter      3\n",
      "Grandson           3\n",
      "Unknown            1\n",
      "Name: count, dtype: int64\n"
     ]
    }
   ],
   "source": [
    " # Identify Duplicate Surnames\n",
    "duplicate_surnames_df = df[df['Surname'].duplicated(keep=False)]\n",
    "\n",
    "# Group by Surname and Find Most Frequent Relationship\n",
    "most_frequent_relationships = duplicate_surnames_df.groupby('Surname')['Relationship to Head of House'].agg(lambda x: x.value_counts().index[0] if len(x.value_counts()) > 0 else 'Unknown')\n",
    "\n",
    "# Count Occurrences of Each Relationship\n",
    "relationship_counts = most_frequent_relationships.value_counts()\n",
    "\n",
    "print(relationship_counts)"
   ]
  },
  {
   "cell_type": "markdown",
   "id": "26530b60-bf99-4785-8e13-295d8133e97f",
   "metadata": {},
   "source": [
    "We found out that there are surname duplicates. A lot of them belong to son and daughter. That is why we decided to change the missing values on Sibling."
   ]
  },
  {
   "cell_type": "code",
   "execution_count": 31,
   "id": "9247a8a7-897c-4b20-95f4-a7959ee43481",
   "metadata": {},
   "outputs": [],
   "source": [
    "# Clean the data by filling NaN values with the Sibling\n",
    "df['Relationship to Head of House'] = df['Relationship to Head of House'].fillna(str(\"Sibling\"))\n",
    "\n",
    "# Save the corrected DataFrame to a new file\n",
    "df.to_csv('W-T2_A24census-1 - Copy_cor.csv', index=False)"
   ]
  },
  {
   "cell_type": "code",
   "execution_count": 32,
   "id": "6df97223-1df2-48d9-9130-91b250810950",
   "metadata": {},
   "outputs": [
    {
     "data": {
      "text/plain": [
       "array(['Head', 'Wife', 'Lodger', 'Partner', 'Husband', 'Son', 'Sibling',\n",
       "       'Daughter', 'Granddaughter', 'Grandson', 'Nephew', 'Step-Son',\n",
       "       'Cousin', 'Step-Daughter', 'Adopted Daughter', 'Visitor', 'Neice',\n",
       "       'Adopted Son', 'Adopted Grandson', ' ', 'Adopted Granddaughter'],\n",
       "      dtype=object)"
      ]
     },
     "execution_count": 32,
     "metadata": {},
     "output_type": "execute_result"
    }
   ],
   "source": [
    "df['Relationship to Head of House'].unique()"
   ]
  },
  {
   "cell_type": "markdown",
   "id": "e9cb694d-1704-4b1c-8e0f-9897aec9a72a",
   "metadata": {},
   "source": [
    "#### Clean Marital status"
   ]
  },
  {
   "cell_type": "code",
   "execution_count": null,
   "id": "ccce0f90-594e-4618-85fb-2c1a64023503",
   "metadata": {},
   "outputs": [
    {
     "name": "stdout",
     "output_type": "stream",
     "text": [
      "     House Number         Street First Name   Surname  Age  \\\n",
      "6683           25  Upland Street      Tracy     Davis   17   \n",
      "7049            1     Lewis Pike      Helen  Williams   17   \n",
      "\n",
      "     Relationship to Head of House Marital Status  Gender Occupation  \\\n",
      "6683                          Head        Married  Female    Student   \n",
      "7049                          Head        Married  Female    Student   \n",
      "\n",
      "     Infirmity Religion  \n",
      "6683       NaN  Unknown  \n",
      "7049       NaN  Unknown  \n",
      "2\n"
     ]
    }
   ],
   "source": [
    "# Find whether the person is married and under 18\n",
    "married_under_18 = df[(df['Marital Status'] == 'Married') & (df['Age'] < 18)]\n",
    "\n",
    "print(married_under_18)\n",
    "print(len(married_under_18))"
   ]
  },
  {
   "cell_type": "code",
   "execution_count": null,
   "id": "70c10c10-ff2a-4487-9cb9-ab00391142fc",
   "metadata": {
    "scrolled": true
   },
   "outputs": [
    {
     "name": "stdout",
     "output_type": "stream",
     "text": [
      "     House Number           Street First Name        Surname  Age  \\\n",
      "0               1    Windsor Plaza    Cameron  Johnson-White   37   \n",
      "1               1    Windsor Plaza  Katherine  Johnson-White   26   \n",
      "2               1    Windsor Plaza       Jack           Cook   41   \n",
      "3               2    Windsor Plaza      Marie          Allen   44   \n",
      "4               3    Windsor Plaza     Janice       Harrison   55   \n",
      "...           ...              ...        ...            ...  ...   \n",
      "8170            1  Wilson Barracks      Allan          Begum   26   \n",
      "8171            1  Wilson Barracks    Melissa          Evans   25   \n",
      "8172            1  Wilson Barracks      Carly          Patel   25   \n",
      "8173            1  Wilson Barracks       Gary      Tomlinson   26   \n",
      "8174            1  Wilson Barracks     Joanna         Wright   36   \n",
      "\n",
      "     Relationship to Head of House Marital Status  Gender  \\\n",
      "0                             Head        Married    Male   \n",
      "1                             Wife        Married  Female   \n",
      "2                           Lodger       Divorced    Male   \n",
      "3                             Head         Single  Female   \n",
      "4                             Head         Single  Female   \n",
      "...                            ...            ...     ...   \n",
      "8170                          Head         Single    Male   \n",
      "8171                       Sibling       Divorced  Female   \n",
      "8172                       Sibling         Single  Female   \n",
      "8173                       Sibling         Single    Male   \n",
      "8174                       Sibling         Single  Female   \n",
      "\n",
      "                         Occupation Infirmity   Religion  \n",
      "0               Landscape architect       NaN  Christian  \n",
      "1           Presenter, broadcasting       NaN    Unknown  \n",
      "2                      Risk manager       NaN  Methodist  \n",
      "3                           Midwife       NaN   Catholic  \n",
      "4                 Warehouse manager       NaN  Christian  \n",
      "...                             ...       ...        ...  \n",
      "8170          Nutritional therapist       NaN  Christian  \n",
      "8171  Development worker, community       NaN   Catholic  \n",
      "8172           Journalist, magazine       NaN       Sikh  \n",
      "8173                Ophthalmologist       NaN    Unknown  \n",
      "8174        Insurance risk surveyor       NaN    Unknown  \n",
      "\n",
      "[8173 rows x 11 columns]\n"
     ]
    }
   ],
   "source": [
    "# Delete rows where the person is married and under 18\n",
    "df = df.drop(df[(df['Marital Status'] == 'Married') & (df['Age'] < 18)].index)\n",
    "\n",
    "print(df)"
   ]
  },
  {
   "cell_type": "markdown",
   "id": "12451cb5-b224-4e79-ab87-61dd8cc3a0d5",
   "metadata": {},
   "source": [
    "The next step will be predict the Marital Status. Whether it will be Single, Married, Divorced or Widowed"
   ]
  },
  {
   "cell_type": "code",
   "execution_count": 35,
   "id": "2f5a5833-57e5-42f2-acf7-8c8f7dd5c42b",
   "metadata": {
    "scrolled": true
   },
   "outputs": [
    {
     "name": "stdout",
     "output_type": "stream",
     "text": [
      "Predicted_Marital_Status                          Single\n",
      "Occupation                                              \n",
      "Accommodation manager                                1.0\n",
      "Accounting technician                                1.0\n",
      "Administrator                                        1.0\n",
      "Administrator, charities/voluntary organisations     1.0\n",
      "Administrator, local government                      1.0\n",
      "...                                                  ...\n",
      "Video editor                                         1.0\n",
      "Volunteer coordinator                                1.0\n",
      "Water engineer                                       1.0\n",
      "Writer                                               1.0\n",
      "Youth worker                                         1.0\n",
      "\n",
      "[266 rows x 1 columns]\n",
      "  Predicted_Marital_Status\n",
      "0                      NaN\n",
      "1                      NaN\n",
      "2                      NaN\n",
      "3                      NaN\n",
      "4                      NaN\n"
     ]
    }
   ],
   "source": [
    "# Create a mapping for Relationship to Marital Status\n",
    "relationship_mapping = {\n",
    "    'Spouse': 'Married',\n",
    "    'Child': 'Single',\n",
    "    'Parent': 'Divorced',\n",
    "    'Sibling': 'Single',\n",
    "    'Other relative': 'Unknown',\n",
    "    'Non-relative': 'Unknown'\n",
    "}\n",
    "\n",
    "df['Predicted_Marital_Status'] = df['Relationship to Head of House'].map(relationship_mapping)\n",
    "\n",
    "occupation_marital_status = df.groupby('Occupation')['Predicted_Marital_Status'].value_counts(normalize=True).unstack().fillna(0)\n",
    "print(occupation_marital_status)\n",
    "\n",
    "print(df[['Predicted_Marital_Status']].head())"
   ]
  },
  {
   "cell_type": "code",
   "execution_count": null,
   "id": "c5f1e092-5216-4d14-a529-bacd24c98249",
   "metadata": {},
   "outputs": [],
   "source": [
    "# Change missing values to Single because there are numerous people whose occupation is student or child and they are siblings to head of the house.\n",
    "df['Marital Status'] = df['Marital Status'].fillna(str(\"Single\"))\n",
    "\n",
    "# Save the corrected DataFrame to a new file\n",
    "df.to_csv('W-T2_A24census-1 - Copy_cor.csv', index=False)"
   ]
  },
  {
   "cell_type": "markdown",
   "id": "45edf449-eed7-40e2-8aef-a9aa54fed155",
   "metadata": {},
   "source": [
    "#### Clean Infirmity"
   ]
  },
  {
   "cell_type": "code",
   "execution_count": null,
   "id": "201e55ec-4e9d-42c7-a120-8e826d0a3c14",
   "metadata": {},
   "outputs": [
    {
     "data": {
      "text/plain": [
       "np.int64(8110)"
      ]
     },
     "execution_count": 37,
     "metadata": {},
     "output_type": "execute_result"
    }
   ],
   "source": [
    "# Identify the missing values\n",
    "df['Infirmity'].isnull().sum()"
   ]
  },
  {
   "cell_type": "code",
   "execution_count": null,
   "id": "31b18c72-8f47-4865-9924-73cd179901d5",
   "metadata": {},
   "outputs": [],
   "source": [
    "# We created a new categoty 'Unknown' because there are a lot of records that we do not know the illness.\n",
    "df['Infirmity'] = df['Infirmity'].fillna(str(\"Unknown\"))\n",
    "\n",
    "# Save the corrected DataFrame to a new file\n",
    "df.to_csv('W-T2_A24census-1 - Copy_cor.csv', index=False)"
   ]
  },
  {
   "cell_type": "code",
   "execution_count": 39,
   "id": "75f768aa-9518-4e54-b1e6-36790a1ca481",
   "metadata": {},
   "outputs": [
    {
     "data": {
      "application/vnd.microsoft.datawrangler.viewer.v0+json": {
       "columns": [
        {
         "name": "index",
         "rawType": "int64",
         "type": "integer"
        },
        {
         "name": "House Number",
         "rawType": "object",
         "type": "string"
        },
        {
         "name": "Street",
         "rawType": "object",
         "type": "string"
        },
        {
         "name": "First Name",
         "rawType": "object",
         "type": "string"
        },
        {
         "name": "Surname",
         "rawType": "object",
         "type": "string"
        },
        {
         "name": "Age",
         "rawType": "int64",
         "type": "integer"
        },
        {
         "name": "Relationship to Head of House",
         "rawType": "object",
         "type": "string"
        },
        {
         "name": "Marital Status",
         "rawType": "object",
         "type": "string"
        },
        {
         "name": "Gender",
         "rawType": "object",
         "type": "string"
        },
        {
         "name": "Occupation",
         "rawType": "object",
         "type": "string"
        },
        {
         "name": "Infirmity",
         "rawType": "object",
         "type": "string"
        },
        {
         "name": "Religion",
         "rawType": "object",
         "type": "string"
        },
        {
         "name": "Predicted_Marital_Status",
         "rawType": "object",
         "type": "unknown"
        }
       ],
       "conversionMethod": "pd.DataFrame",
       "ref": "9150bb84-26e7-4483-bb4f-630be23cde6c",
       "rows": [
        [
         "0",
         "1",
         "Windsor Plaza",
         "Cameron",
         "Johnson-White",
         "37",
         "Head",
         "Married",
         "Male",
         "Landscape architect",
         "Unknown",
         "Christian",
         null
        ],
        [
         "1",
         "1",
         "Windsor Plaza",
         "Katherine",
         "Johnson-White",
         "26",
         "Wife",
         "Married",
         "Female",
         "Presenter, broadcasting",
         "Unknown",
         "Unknown",
         null
        ],
        [
         "2",
         "1",
         "Windsor Plaza",
         "Jack",
         "Cook",
         "41",
         "Lodger",
         "Divorced",
         "Male",
         "Risk manager",
         "Unknown",
         "Methodist",
         null
        ],
        [
         "3",
         "2",
         "Windsor Plaza",
         "Marie",
         "Allen",
         "44",
         "Head",
         "Single",
         "Female",
         "Midwife",
         "Unknown",
         "Catholic",
         null
        ],
        [
         "4",
         "3",
         "Windsor Plaza",
         "Janice",
         "Harrison",
         "55",
         "Head",
         "Single",
         "Female",
         "Warehouse manager",
         "Unknown",
         "Christian",
         null
        ],
        [
         "5",
         "4",
         "Windsor Plaza",
         "Charlotte",
         "Bishop",
         "63",
         "Head",
         "Divorced",
         "Female",
         "Education officer, environmental",
         "Unknown",
         "Christian",
         null
        ],
        [
         "6",
         "1",
         "Gracehawk Street",
         "Stephen",
         "Thompson",
         "36",
         "Head",
         "Single",
         "Male",
         "Air broker",
         "Unknown",
         "Unknown",
         null
        ],
        [
         "7",
         "1",
         "Gracehawk Street",
         "Lesley",
         "King",
         "38",
         "Partner",
         "Single",
         "Female",
         "Musician",
         "Unknown",
         "Unknown",
         null
        ],
        [
         "8",
         "2",
         "Gracehawk Street",
         "Graeme",
         "Wilson",
         "57",
         "Head",
         "Single",
         "Male",
         "Commercial horticulturist",
         "Unknown",
         "Christian",
         null
        ],
        [
         "9",
         "3",
         "Gracehawk Street",
         "June",
         "Collins",
         "81",
         "Head",
         "Widowed",
         "Female",
         "Retired Special effects artist",
         "Unknown",
         "Christian",
         null
        ]
       ],
       "shape": {
        "columns": 12,
        "rows": 10
       }
      },
      "text/html": [
       "<div>\n",
       "<style scoped>\n",
       "    .dataframe tbody tr th:only-of-type {\n",
       "        vertical-align: middle;\n",
       "    }\n",
       "\n",
       "    .dataframe tbody tr th {\n",
       "        vertical-align: top;\n",
       "    }\n",
       "\n",
       "    .dataframe thead th {\n",
       "        text-align: right;\n",
       "    }\n",
       "</style>\n",
       "<table border=\"1\" class=\"dataframe\">\n",
       "  <thead>\n",
       "    <tr style=\"text-align: right;\">\n",
       "      <th></th>\n",
       "      <th>House Number</th>\n",
       "      <th>Street</th>\n",
       "      <th>First Name</th>\n",
       "      <th>Surname</th>\n",
       "      <th>Age</th>\n",
       "      <th>Relationship to Head of House</th>\n",
       "      <th>Marital Status</th>\n",
       "      <th>Gender</th>\n",
       "      <th>Occupation</th>\n",
       "      <th>Infirmity</th>\n",
       "      <th>Religion</th>\n",
       "      <th>Predicted_Marital_Status</th>\n",
       "    </tr>\n",
       "  </thead>\n",
       "  <tbody>\n",
       "    <tr>\n",
       "      <th>0</th>\n",
       "      <td>1</td>\n",
       "      <td>Windsor Plaza</td>\n",
       "      <td>Cameron</td>\n",
       "      <td>Johnson-White</td>\n",
       "      <td>37</td>\n",
       "      <td>Head</td>\n",
       "      <td>Married</td>\n",
       "      <td>Male</td>\n",
       "      <td>Landscape architect</td>\n",
       "      <td>Unknown</td>\n",
       "      <td>Christian</td>\n",
       "      <td>NaN</td>\n",
       "    </tr>\n",
       "    <tr>\n",
       "      <th>1</th>\n",
       "      <td>1</td>\n",
       "      <td>Windsor Plaza</td>\n",
       "      <td>Katherine</td>\n",
       "      <td>Johnson-White</td>\n",
       "      <td>26</td>\n",
       "      <td>Wife</td>\n",
       "      <td>Married</td>\n",
       "      <td>Female</td>\n",
       "      <td>Presenter, broadcasting</td>\n",
       "      <td>Unknown</td>\n",
       "      <td>Unknown</td>\n",
       "      <td>NaN</td>\n",
       "    </tr>\n",
       "    <tr>\n",
       "      <th>2</th>\n",
       "      <td>1</td>\n",
       "      <td>Windsor Plaza</td>\n",
       "      <td>Jack</td>\n",
       "      <td>Cook</td>\n",
       "      <td>41</td>\n",
       "      <td>Lodger</td>\n",
       "      <td>Divorced</td>\n",
       "      <td>Male</td>\n",
       "      <td>Risk manager</td>\n",
       "      <td>Unknown</td>\n",
       "      <td>Methodist</td>\n",
       "      <td>NaN</td>\n",
       "    </tr>\n",
       "    <tr>\n",
       "      <th>3</th>\n",
       "      <td>2</td>\n",
       "      <td>Windsor Plaza</td>\n",
       "      <td>Marie</td>\n",
       "      <td>Allen</td>\n",
       "      <td>44</td>\n",
       "      <td>Head</td>\n",
       "      <td>Single</td>\n",
       "      <td>Female</td>\n",
       "      <td>Midwife</td>\n",
       "      <td>Unknown</td>\n",
       "      <td>Catholic</td>\n",
       "      <td>NaN</td>\n",
       "    </tr>\n",
       "    <tr>\n",
       "      <th>4</th>\n",
       "      <td>3</td>\n",
       "      <td>Windsor Plaza</td>\n",
       "      <td>Janice</td>\n",
       "      <td>Harrison</td>\n",
       "      <td>55</td>\n",
       "      <td>Head</td>\n",
       "      <td>Single</td>\n",
       "      <td>Female</td>\n",
       "      <td>Warehouse manager</td>\n",
       "      <td>Unknown</td>\n",
       "      <td>Christian</td>\n",
       "      <td>NaN</td>\n",
       "    </tr>\n",
       "    <tr>\n",
       "      <th>5</th>\n",
       "      <td>4</td>\n",
       "      <td>Windsor Plaza</td>\n",
       "      <td>Charlotte</td>\n",
       "      <td>Bishop</td>\n",
       "      <td>63</td>\n",
       "      <td>Head</td>\n",
       "      <td>Divorced</td>\n",
       "      <td>Female</td>\n",
       "      <td>Education officer, environmental</td>\n",
       "      <td>Unknown</td>\n",
       "      <td>Christian</td>\n",
       "      <td>NaN</td>\n",
       "    </tr>\n",
       "    <tr>\n",
       "      <th>6</th>\n",
       "      <td>1</td>\n",
       "      <td>Gracehawk Street</td>\n",
       "      <td>Stephen</td>\n",
       "      <td>Thompson</td>\n",
       "      <td>36</td>\n",
       "      <td>Head</td>\n",
       "      <td>Single</td>\n",
       "      <td>Male</td>\n",
       "      <td>Air broker</td>\n",
       "      <td>Unknown</td>\n",
       "      <td>Unknown</td>\n",
       "      <td>NaN</td>\n",
       "    </tr>\n",
       "    <tr>\n",
       "      <th>7</th>\n",
       "      <td>1</td>\n",
       "      <td>Gracehawk Street</td>\n",
       "      <td>Lesley</td>\n",
       "      <td>King</td>\n",
       "      <td>38</td>\n",
       "      <td>Partner</td>\n",
       "      <td>Single</td>\n",
       "      <td>Female</td>\n",
       "      <td>Musician</td>\n",
       "      <td>Unknown</td>\n",
       "      <td>Unknown</td>\n",
       "      <td>NaN</td>\n",
       "    </tr>\n",
       "    <tr>\n",
       "      <th>8</th>\n",
       "      <td>2</td>\n",
       "      <td>Gracehawk Street</td>\n",
       "      <td>Graeme</td>\n",
       "      <td>Wilson</td>\n",
       "      <td>57</td>\n",
       "      <td>Head</td>\n",
       "      <td>Single</td>\n",
       "      <td>Male</td>\n",
       "      <td>Commercial horticulturist</td>\n",
       "      <td>Unknown</td>\n",
       "      <td>Christian</td>\n",
       "      <td>NaN</td>\n",
       "    </tr>\n",
       "    <tr>\n",
       "      <th>9</th>\n",
       "      <td>3</td>\n",
       "      <td>Gracehawk Street</td>\n",
       "      <td>June</td>\n",
       "      <td>Collins</td>\n",
       "      <td>81</td>\n",
       "      <td>Head</td>\n",
       "      <td>Widowed</td>\n",
       "      <td>Female</td>\n",
       "      <td>Retired Special effects artist</td>\n",
       "      <td>Unknown</td>\n",
       "      <td>Christian</td>\n",
       "      <td>NaN</td>\n",
       "    </tr>\n",
       "  </tbody>\n",
       "</table>\n",
       "</div>"
      ],
      "text/plain": [
       "  House Number            Street First Name        Surname  Age  \\\n",
       "0            1     Windsor Plaza    Cameron  Johnson-White   37   \n",
       "1            1     Windsor Plaza  Katherine  Johnson-White   26   \n",
       "2            1     Windsor Plaza       Jack           Cook   41   \n",
       "3            2     Windsor Plaza      Marie          Allen   44   \n",
       "4            3     Windsor Plaza     Janice       Harrison   55   \n",
       "5            4     Windsor Plaza  Charlotte         Bishop   63   \n",
       "6            1  Gracehawk Street    Stephen       Thompson   36   \n",
       "7            1  Gracehawk Street     Lesley           King   38   \n",
       "8            2  Gracehawk Street     Graeme         Wilson   57   \n",
       "9            3  Gracehawk Street       June        Collins   81   \n",
       "\n",
       "  Relationship to Head of House Marital Status  Gender  \\\n",
       "0                          Head        Married    Male   \n",
       "1                          Wife        Married  Female   \n",
       "2                        Lodger       Divorced    Male   \n",
       "3                          Head         Single  Female   \n",
       "4                          Head         Single  Female   \n",
       "5                          Head       Divorced  Female   \n",
       "6                          Head         Single    Male   \n",
       "7                       Partner         Single  Female   \n",
       "8                          Head         Single    Male   \n",
       "9                          Head        Widowed  Female   \n",
       "\n",
       "                         Occupation Infirmity   Religion  \\\n",
       "0               Landscape architect   Unknown  Christian   \n",
       "1           Presenter, broadcasting   Unknown    Unknown   \n",
       "2                      Risk manager   Unknown  Methodist   \n",
       "3                           Midwife   Unknown   Catholic   \n",
       "4                 Warehouse manager   Unknown  Christian   \n",
       "5  Education officer, environmental   Unknown  Christian   \n",
       "6                        Air broker   Unknown    Unknown   \n",
       "7                          Musician   Unknown    Unknown   \n",
       "8         Commercial horticulturist   Unknown  Christian   \n",
       "9    Retired Special effects artist   Unknown  Christian   \n",
       "\n",
       "  Predicted_Marital_Status  \n",
       "0                      NaN  \n",
       "1                      NaN  \n",
       "2                      NaN  \n",
       "3                      NaN  \n",
       "4                      NaN  \n",
       "5                      NaN  \n",
       "6                      NaN  \n",
       "7                      NaN  \n",
       "8                      NaN  \n",
       "9                      NaN  "
      ]
     },
     "execution_count": 39,
     "metadata": {},
     "output_type": "execute_result"
    }
   ],
   "source": [
    "df.head(10)"
   ]
  },
  {
   "cell_type": "code",
   "execution_count": null,
   "id": "d0da819d-1fd9-46ef-924d-db6ca3821e34",
   "metadata": {},
   "outputs": [],
   "source": [
    "# Delete useless column\n",
    "df = df.drop(columns=['Predicted_Marital_Status'])"
   ]
  },
  {
   "cell_type": "code",
   "execution_count": 41,
   "id": "b61d2582-e270-485b-9d52-8a58089cad01",
   "metadata": {},
   "outputs": [
    {
     "data": {
      "application/vnd.microsoft.datawrangler.viewer.v0+json": {
       "columns": [
        {
         "name": "index",
         "rawType": "int64",
         "type": "integer"
        },
        {
         "name": "House Number",
         "rawType": "object",
         "type": "string"
        },
        {
         "name": "Street",
         "rawType": "object",
         "type": "string"
        },
        {
         "name": "First Name",
         "rawType": "object",
         "type": "string"
        },
        {
         "name": "Surname",
         "rawType": "object",
         "type": "string"
        },
        {
         "name": "Age",
         "rawType": "int64",
         "type": "integer"
        },
        {
         "name": "Relationship to Head of House",
         "rawType": "object",
         "type": "string"
        },
        {
         "name": "Marital Status",
         "rawType": "object",
         "type": "string"
        },
        {
         "name": "Gender",
         "rawType": "object",
         "type": "string"
        },
        {
         "name": "Occupation",
         "rawType": "object",
         "type": "string"
        },
        {
         "name": "Infirmity",
         "rawType": "object",
         "type": "string"
        },
        {
         "name": "Religion",
         "rawType": "object",
         "type": "string"
        }
       ],
       "conversionMethod": "pd.DataFrame",
       "ref": "10eb4c08-a85e-4825-aba0-500d48054c24",
       "rows": [
        [
         "0",
         "1",
         "Windsor Plaza",
         "Cameron",
         "Johnson-White",
         "37",
         "Head",
         "Married",
         "Male",
         "Landscape architect",
         "Unknown",
         "Christian"
        ],
        [
         "1",
         "1",
         "Windsor Plaza",
         "Katherine",
         "Johnson-White",
         "26",
         "Wife",
         "Married",
         "Female",
         "Presenter, broadcasting",
         "Unknown",
         "Unknown"
        ],
        [
         "2",
         "1",
         "Windsor Plaza",
         "Jack",
         "Cook",
         "41",
         "Lodger",
         "Divorced",
         "Male",
         "Risk manager",
         "Unknown",
         "Methodist"
        ],
        [
         "3",
         "2",
         "Windsor Plaza",
         "Marie",
         "Allen",
         "44",
         "Head",
         "Single",
         "Female",
         "Midwife",
         "Unknown",
         "Catholic"
        ],
        [
         "4",
         "3",
         "Windsor Plaza",
         "Janice",
         "Harrison",
         "55",
         "Head",
         "Single",
         "Female",
         "Warehouse manager",
         "Unknown",
         "Christian"
        ]
       ],
       "shape": {
        "columns": 11,
        "rows": 5
       }
      },
      "text/html": [
       "<div>\n",
       "<style scoped>\n",
       "    .dataframe tbody tr th:only-of-type {\n",
       "        vertical-align: middle;\n",
       "    }\n",
       "\n",
       "    .dataframe tbody tr th {\n",
       "        vertical-align: top;\n",
       "    }\n",
       "\n",
       "    .dataframe thead th {\n",
       "        text-align: right;\n",
       "    }\n",
       "</style>\n",
       "<table border=\"1\" class=\"dataframe\">\n",
       "  <thead>\n",
       "    <tr style=\"text-align: right;\">\n",
       "      <th></th>\n",
       "      <th>House Number</th>\n",
       "      <th>Street</th>\n",
       "      <th>First Name</th>\n",
       "      <th>Surname</th>\n",
       "      <th>Age</th>\n",
       "      <th>Relationship to Head of House</th>\n",
       "      <th>Marital Status</th>\n",
       "      <th>Gender</th>\n",
       "      <th>Occupation</th>\n",
       "      <th>Infirmity</th>\n",
       "      <th>Religion</th>\n",
       "    </tr>\n",
       "  </thead>\n",
       "  <tbody>\n",
       "    <tr>\n",
       "      <th>0</th>\n",
       "      <td>1</td>\n",
       "      <td>Windsor Plaza</td>\n",
       "      <td>Cameron</td>\n",
       "      <td>Johnson-White</td>\n",
       "      <td>37</td>\n",
       "      <td>Head</td>\n",
       "      <td>Married</td>\n",
       "      <td>Male</td>\n",
       "      <td>Landscape architect</td>\n",
       "      <td>Unknown</td>\n",
       "      <td>Christian</td>\n",
       "    </tr>\n",
       "    <tr>\n",
       "      <th>1</th>\n",
       "      <td>1</td>\n",
       "      <td>Windsor Plaza</td>\n",
       "      <td>Katherine</td>\n",
       "      <td>Johnson-White</td>\n",
       "      <td>26</td>\n",
       "      <td>Wife</td>\n",
       "      <td>Married</td>\n",
       "      <td>Female</td>\n",
       "      <td>Presenter, broadcasting</td>\n",
       "      <td>Unknown</td>\n",
       "      <td>Unknown</td>\n",
       "    </tr>\n",
       "    <tr>\n",
       "      <th>2</th>\n",
       "      <td>1</td>\n",
       "      <td>Windsor Plaza</td>\n",
       "      <td>Jack</td>\n",
       "      <td>Cook</td>\n",
       "      <td>41</td>\n",
       "      <td>Lodger</td>\n",
       "      <td>Divorced</td>\n",
       "      <td>Male</td>\n",
       "      <td>Risk manager</td>\n",
       "      <td>Unknown</td>\n",
       "      <td>Methodist</td>\n",
       "    </tr>\n",
       "    <tr>\n",
       "      <th>3</th>\n",
       "      <td>2</td>\n",
       "      <td>Windsor Plaza</td>\n",
       "      <td>Marie</td>\n",
       "      <td>Allen</td>\n",
       "      <td>44</td>\n",
       "      <td>Head</td>\n",
       "      <td>Single</td>\n",
       "      <td>Female</td>\n",
       "      <td>Midwife</td>\n",
       "      <td>Unknown</td>\n",
       "      <td>Catholic</td>\n",
       "    </tr>\n",
       "    <tr>\n",
       "      <th>4</th>\n",
       "      <td>3</td>\n",
       "      <td>Windsor Plaza</td>\n",
       "      <td>Janice</td>\n",
       "      <td>Harrison</td>\n",
       "      <td>55</td>\n",
       "      <td>Head</td>\n",
       "      <td>Single</td>\n",
       "      <td>Female</td>\n",
       "      <td>Warehouse manager</td>\n",
       "      <td>Unknown</td>\n",
       "      <td>Christian</td>\n",
       "    </tr>\n",
       "  </tbody>\n",
       "</table>\n",
       "</div>"
      ],
      "text/plain": [
       "  House Number         Street First Name        Surname  Age  \\\n",
       "0            1  Windsor Plaza    Cameron  Johnson-White   37   \n",
       "1            1  Windsor Plaza  Katherine  Johnson-White   26   \n",
       "2            1  Windsor Plaza       Jack           Cook   41   \n",
       "3            2  Windsor Plaza      Marie          Allen   44   \n",
       "4            3  Windsor Plaza     Janice       Harrison   55   \n",
       "\n",
       "  Relationship to Head of House Marital Status  Gender  \\\n",
       "0                          Head        Married    Male   \n",
       "1                          Wife        Married  Female   \n",
       "2                        Lodger       Divorced    Male   \n",
       "3                          Head         Single  Female   \n",
       "4                          Head         Single  Female   \n",
       "\n",
       "                Occupation Infirmity   Religion  \n",
       "0      Landscape architect   Unknown  Christian  \n",
       "1  Presenter, broadcasting   Unknown    Unknown  \n",
       "2             Risk manager   Unknown  Methodist  \n",
       "3                  Midwife   Unknown   Catholic  \n",
       "4        Warehouse manager   Unknown  Christian  "
      ]
     },
     "execution_count": 41,
     "metadata": {},
     "output_type": "execute_result"
    }
   ],
   "source": [
    "df.head()"
   ]
  },
  {
   "cell_type": "markdown",
   "id": "d343f7fb-57db-4d4c-ad3d-bac36fe22e94",
   "metadata": {},
   "source": [
    "### Early analysis"
   ]
  },
  {
   "cell_type": "markdown",
   "id": "100453a4",
   "metadata": {},
   "source": [
    "#### Create a histogram by marital status"
   ]
  },
  {
   "cell_type": "code",
   "execution_count": 4,
   "id": "f1c34f64-8ab5-40ab-8a67-8de3d5240b77",
   "metadata": {},
   "outputs": [
    {
     "data": {
      "image/png": "[encoded data removed]",
      "text/plain": [
       "<Figure size 1200x800 with 4 Axes>"
      ]
     },
     "metadata": {},
     "output_type": "display_data"
    }
   ],
   "source": [
    "import seaborn as sns\n",
    "import matplotlib.pyplot as plt\n",
    "\n",
    "# Define the marital statuses\n",
    "statuses = ['Married', 'Divorced', 'Single', 'Widowed']\n",
    "\n",
    "# Set up the plot grid\n",
    "fig, axes = plt.subplots(2, 2, figsize=(12, 8), sharex=True, sharey=True)\n",
    "axes = axes.flatten()\n",
    "\n",
    "# Plot each marital status\n",
    "for i, status in enumerate(statuses):\n",
    "    sns.histplot(\n",
    "        df[df['Marital Status'] == status]['Age'],\n",
    "        bins=20,\n",
    "        kde=False,\n",
    "        ax=axes[i],\n",
    "        color='steelblue'\n",
    "    )\n",
    "    axes[i].set_title(status)\n",
    "    axes[i].set_xlabel('Age')\n",
    "    axes[i].set_ylabel('Count')\n",
    "\n",
    "plt.tight_layout()\n",
    "plt.savefig('marital_status.png', bbox_inches='tight') \n",
    "plt.show()"
   ]
  },
  {
   "cell_type": "markdown",
   "id": "5d8734ec",
   "metadata": {},
   "source": [
    "Histograms made by marital status shows that most of the young population is single, but there are some married young age individuals under 18. We deleted them from the data as it will not influence on the results. The highest number divorced is presented as well. The number of widowed residents is higher in older age (approximately between 65-85), which means that they need healthcare needs."
   ]
  },
  {
   "cell_type": "markdown",
   "id": "daf4ca6e",
   "metadata": {},
   "source": [
    "#### Check age, gender, marital status, occupation and religion distribution "
   ]
  },
  {
   "cell_type": "code",
   "execution_count": 45,
   "id": "fb243333",
   "metadata": {},
   "outputs": [
    {
     "data": {
      "text/plain": [
       "count    8173.000000\n",
       "mean       37.161018\n",
       "std        21.638834\n",
       "min         0.000000\n",
       "25%        19.000000\n",
       "50%        36.000000\n",
       "75%        53.000000\n",
       "max        99.000000\n",
       "Name: Age, dtype: float64"
      ]
     },
     "execution_count": 45,
     "metadata": {},
     "output_type": "execute_result"
    }
   ],
   "source": [
    "df['Age'].describe()"
   ]
  },
  {
   "cell_type": "code",
   "execution_count": 46,
   "id": "d5602bf1",
   "metadata": {},
   "outputs": [
    {
     "data": {
      "text/plain": [
       "count       8173\n",
       "unique         2\n",
       "top       Female\n",
       "freq        4270\n",
       "Name: Gender, dtype: object"
      ]
     },
     "execution_count": 46,
     "metadata": {},
     "output_type": "execute_result"
    }
   ],
   "source": [
    "df['Gender'].describe()"
   ]
  },
  {
   "cell_type": "code",
   "execution_count": 48,
   "id": "5d217f77",
   "metadata": {},
   "outputs": [
    {
     "data": {
      "text/plain": [
       "count       8173\n",
       "unique         4\n",
       "top       Single\n",
       "freq        4694\n",
       "Name: Marital Status, dtype: object"
      ]
     },
     "execution_count": 48,
     "metadata": {},
     "output_type": "execute_result"
    }
   ],
   "source": [
    "df['Marital Status'].describe()"
   ]
  },
  {
   "cell_type": "code",
   "execution_count": 51,
   "id": "34ff9598",
   "metadata": {},
   "outputs": [
    {
     "data": {
      "text/plain": [
       "count        8173\n",
       "unique       1109\n",
       "top       Student\n",
       "freq         1544\n",
       "Name: Occupation, dtype: object"
      ]
     },
     "execution_count": 51,
     "metadata": {},
     "output_type": "execute_result"
    }
   ],
   "source": [
    "df['Occupation'].describe()"
   ]
  },
  {
   "cell_type": "code",
   "execution_count": 79,
   "id": "542a15c5",
   "metadata": {},
   "outputs": [
    {
     "data": {
      "text/plain": [
       "count          3546\n",
       "unique           14\n",
       "top       Christian\n",
       "freq           1924\n",
       "Name: Religion, dtype: object"
      ]
     },
     "execution_count": 79,
     "metadata": {},
     "output_type": "execute_result"
    }
   ],
   "source": [
    "df['Religion'].describe()"
   ]
  },
  {
   "cell_type": "markdown",
   "id": "5cb1cea3",
   "metadata": {},
   "source": [
    "#### Calculate the Number of potential commuters"
   ]
  },
  {
   "cell_type": "code",
   "execution_count": null,
   "id": "7fa6e1c8",
   "metadata": {},
   "outputs": [
    {
     "name": "stdout",
     "output_type": "stream",
     "text": [
      "\n",
      "Number of potential commuters (based on low-frequency occupations, excluding 'Retired' and 'Unemployed'): 831\n",
      "\n",
      "Examples of low-frequency occupations potentially indicating commuting:\n",
      "['Air broker' 'Musician' 'Retired Special effects artist'\n",
      " 'Retired Engineer, building services' 'Software engineer'\n",
      " 'Lecturer, further education'\n",
      " 'Retired Government social research officer' 'Retired Financial trader'\n",
      " 'Retired Dispensing optician' 'Retired Immigration officer'\n",
      " 'Retired Designer, graphic' 'Retired Teacher, special educational needs'\n",
      " 'Retired Museum education officer' 'Retired Programmer, multimedia'\n",
      " 'Astronomer' 'Industrial/product designer' 'Retired Corporate treasurer'\n",
      " 'Retired Drilling engineer' 'Retired Haematologist'\n",
      " 'Retired Manufacturing systems engineer' 'Civil engineer, consulting'\n",
      " 'Retired Medical illustrator' 'Retired Neurosurgeon'\n",
      " 'Estate manager/land agent' 'Conservation officer, historic buildings'\n",
      " 'Dramatherapist' 'Freight forwarder' 'Communications engineer'\n",
      " 'Industrial buyer' 'Retired Customer service manager'\n",
      " 'Water quality scientist' 'Teacher, primary school'\n",
      " 'Retired Historic buildings inspector/conservation officer'\n",
      " 'Retired Holiday representative' 'Engineer, chemical'\n",
      " 'Retired Environmental health practitioner' 'Retail banker' 'Hydrologist'\n",
      " 'Plant breeder/geneticist' 'Pharmacologist' 'Advertising account planner'\n",
      " 'Solicitor' 'Secretary, company' 'Retired Building surveyor'\n",
      " 'Retired Technical brewer' 'Retired Building control surveyor'\n",
      " 'Bookseller' 'Licensed conveyancer' 'Television production assistant'\n",
      " 'Research officer, trade union' 'Retired Teaching laboratory technician'\n",
      " 'Retired Air cabin crew' 'Camera operator' 'Bonds trader'\n",
      " 'Nurse, mental health' 'Animator' 'Retired Public house manager'\n",
      " 'Retired Engineer, drilling' 'Oncologist'\n",
      " 'Retired Civil engineer, consulting' 'Retired Secretary, company'\n",
      " 'Chartered public finance accountant' 'Retired Proofreader'\n",
      " 'Administrator, Civil Service' 'Interior and spatial designer'\n",
      " 'Teacher, adult education' 'Engineering geologist'\n",
      " 'Retired Newspaper journalist' 'Retired Office manager'\n",
      " 'Equality and diversity officer' 'Learning disability nurse'\n",
      " 'Horticultural consultant' 'Retired Actuary' 'Osteopath'\n",
      " 'Retired Surgeon' 'Health service manager' 'Designer, exhibition/display'\n",
      " 'Equities trader' 'Theatre manager' 'Surveyor, commercial/residential'\n",
      " 'Biomedical engineer' 'Retired Warden/ranger' 'Retired Food technologist'\n",
      " 'Retired Best boy' 'Retired Marine scientist' 'Teacher, early years/pre'\n",
      " 'Structural engineer' 'Retired Equities trader'\n",
      " 'Retired Biomedical scientist' 'Trading standards officer'\n",
      " 'Patent attorney' 'Database administrator'\n",
      " 'Research scientist (physical sciences)' 'Production engineer'\n",
      " 'Retired English as a foreign language teacher'\n",
      " 'Information systems manager' 'Armed forces technical officer'\n",
      " 'Retired Software engineer' 'Retired Financial planner'\n",
      " 'Designer, blown glass/stained glass' 'Museum/gallery curator'\n",
      " 'Retired Cytogeneticist' 'Retired Dentist' 'Retired Paramedic'\n",
      " 'Retired Barrister' 'Police officer' 'Retired Charity officer'\n",
      " 'Engineer, control and instrumentation' 'Exhibition designer'\n",
      " 'Retired Web designer' 'Retired Tree surgeon' 'Set designer'\n",
      " 'Optician, dispensing' 'Retired Engineer, electrical'\n",
      " 'Accountant, chartered' 'Museum/gallery conservator'\n",
      " 'Retired Chartered legal executive (England and Wales)'\n",
      " 'Insurance account manager' 'Retired Printmaker'\n",
      " 'Retired Presenter, broadcasting' 'Pharmacist, community'\n",
      " 'Quarry manager' 'Retired Buyer, retail' 'Retired Firefighter'\n",
      " 'Retired Engineering geologist' 'Fisheries officer'\n",
      " 'Retired Lecturer, further education' 'Educational psychologist'\n",
      " 'Retired Therapist, nutritional' 'Retired Teacher, music' 'Ecologist'\n",
      " 'Retired Manufacturing engineer' 'Manufacturing systems engineer'\n",
      " 'Surgeon' 'Retired Mudlogger' 'Retired Educational psychologist'\n",
      " 'Retired Clinical embryologist' 'Retired Minerals surveyor'\n",
      " 'Retired Public librarian' 'Occupational hygienist' 'Therapist, art'\n",
      " 'Retired Osteopath' 'Building control surveyor'\n",
      " 'Retired Accountant, chartered management' 'Retired Curator'\n",
      " 'Engineer, communications' 'Retired Medical physicist'\n",
      " 'Retail merchandiser' 'Retired Telecommunications researcher'\n",
      " 'Retired Diagnostic radiographer' 'Retired Community development worker'\n",
      " 'Retired Astronomer' 'Retired Higher education careers adviser'\n",
      " 'Translator' 'Sports coach' 'Animal nutritionist' 'Animal technologist'\n",
      " 'Social worker' 'Geoscientist' 'Designer, furniture'\n",
      " 'Engineer, automotive' 'Engineer, manufacturing systems'\n",
      " 'Retired Product manager' 'Journalist, newspaper' 'Petroleum engineer'\n",
      " 'Retired Technical author' 'Retired Secretary/administrator'\n",
      " 'Medical physicist' 'Accountant, chartered management'\n",
      " 'Retired Geologist, wellsite' 'Management consultant'\n",
      " 'Retired Environmental manager' 'Physiological scientist' 'Artist'\n",
      " 'Retired Statistician' 'Retired Surveyor, rural practice'\n",
      " 'Psychologist, educational' 'Retired Arboriculturist'\n",
      " 'Sport and exercise psychologist' 'Multimedia specialist'\n",
      " 'Retired Purchasing manager' 'Retired Therapist, occupational'\n",
      " 'Retired Phytotherapist' 'Surveyor, land/geomatics'\n",
      " 'Retired Sports coach' 'Retired Advertising art director'\n",
      " 'Careers information officer' 'Retired Engineer, aeronautical'\n",
      " 'Technical sales engineer' 'Company secretary'\n",
      " 'Retired Health and safety inspector' 'Retired IT consultant'\n",
      " 'Retired Counselling psychologist' 'Retired Network engineer'\n",
      " 'Careers adviser' 'Retired Lawyer' 'Retired Theme park manager'\n",
      " 'Futures trader' 'Conservator, furniture' 'Homeopath' 'Web designer'\n",
      " 'Product/process development scientist' 'Technical author'\n",
      " 'Retired Fine artist' 'Sales promotion account executive' 'Lawyer'\n",
      " 'Retired Health service manager' 'Retired Ambulance person'\n",
      " 'Retired Site engineer' 'Retired Public relations account executive'\n",
      " 'Retired Gaffer' 'Retired Visual merchandiser'\n",
      " 'Retired Garment/textile technologist' 'Retired Land/geomatics surveyor'\n",
      " 'Accountant, chartered certified' 'Community education officer'\n",
      " 'Retired Surveyor, minerals' 'Land/geomatics surveyor'\n",
      " 'Lighting technician, broadcasting/film/video' 'Administrator, arts'\n",
      " 'Engineer, manufacturing' 'Retired Tourism officer' 'Games developer'\n",
      " 'Retired Scientist, research (maths)' 'Retired Archivist'\n",
      " 'Retired Clinical psychologist' \"Retired Nurse, children's\"\n",
      " 'Retired Arts administrator' 'Retired Ophthalmologist'\n",
      " 'Retired Optometrist' 'Retired Fisheries officer'\n",
      " 'Retired Adult guidance worker' 'Retired Producer, television/film/video'\n",
      " 'Retired Clinical biochemist' 'Retired Animal nutritionist'\n",
      " 'Retired Chemist, analytical' 'Retired Regulatory affairs officer'\n",
      " 'General practice doctor' 'Lobbyist' 'Retired Theatre manager'\n",
      " 'Retired Recruitment consultant' 'IT consultant'\n",
      " 'Retired Geologist, engineering' 'Retired Film/video editor'\n",
      " 'Physiotherapist' 'Retired Tour manager'\n",
      " 'Retired Higher education lecturer' 'Housing manager/officer'\n",
      " 'Retired Primary school teacher' 'Social researcher'\n",
      " 'Retired Engineer, civil (consulting)' 'Research scientist (maths)'\n",
      " 'Retired Planning and development surveyor' 'Retired Biomedical engineer'\n",
      " 'Retired Advertising account executive' 'Civil Service fast streamer'\n",
      " 'Tourist information centre manager' 'Designer, graphic'\n",
      " 'Buyer, industrial' 'Food technologist' 'Herpetologist'\n",
      " 'Retired Estate agent' 'Minerals surveyor'\n",
      " 'Retired Radiographer, diagnostic' 'Medical sales representative'\n",
      " 'Charity officer' 'Archaeologist' 'Retired Designer, ceramics/pottery'\n",
      " 'Retired Recycling officer' 'Retired Sales promotion account executive'\n",
      " 'Retired Physiotherapist' 'Soil scientist' 'Retired Publishing copy'\n",
      " 'Retired Games developer' 'Retired Education officer, museum'\n",
      " 'Printmaker' 'Retired Exercise physiologist' 'Insurance underwriter'\n",
      " 'Acupuncturist' 'Travel agency manager' 'Retired Brewing technologist'\n",
      " 'Retired Financial manager' 'Engineer, drilling' 'Toxicologist'\n",
      " 'Immigration officer' 'Curator' 'Emergency planning/management officer'\n",
      " 'Quantity surveyor' 'Retired Development worker, international aid'\n",
      " 'Medical illustrator' 'Press sub'\n",
      " 'Sound technician, broadcasting/film/video'\n",
      " 'Retired Maintenance engineer' 'Retired Geophysicist/field seismologist'\n",
      " 'Retired Database administrator' 'Retired Applications developer'\n",
      " 'Retired Community pharmacist' 'Retired Engineer, communications'\n",
      " 'Retired Armed forces logistics/support/administrative officer'\n",
      " 'Retired Geographical information systems officer' 'Retired Town planner'\n",
      " 'Retired Audiological scientist' 'Retired Consulting civil engineer'\n",
      " 'Retired Wellsite geologist' 'Retired Tax inspector' 'Actor'\n",
      " 'Retired Health physicist' 'Retired Administrator, education'\n",
      " 'Retired Banker' 'Retired Dietitian' 'Therapist, drama'\n",
      " 'Retired Solicitor, Scotland' 'Administrator, local government' 'Sub'\n",
      " 'Retired Pharmacologist' 'Pensions consultant' 'Arboriculturist'\n",
      " 'Quality manager' 'Retired Energy engineer' 'Retired Textile designer'\n",
      " 'Retired Armed forces operational officer' 'Retired Architect'\n",
      " 'Academic librarian' 'Legal secretary' 'Retired Air traffic controller'\n",
      " 'Retired Nurse, mental health' 'Outdoor activities/education manager'\n",
      " 'Retired Airline pilot' 'Retired Pharmacist, community'\n",
      " 'Retired Scientific laboratory technician' 'Environmental consultant'\n",
      " 'Retired Research officer, trade union' 'Retired Associate Professor'\n",
      " 'Retired Industrial/product designer' 'Retired Chief Strategy Officer'\n",
      " 'Chief Executive Officer' 'Retired Pathologist'\n",
      " 'Retired Museum/gallery conservator' 'Retired Academic librarian'\n",
      " 'Retired Risk manager' 'Retired Chief Operating Officer'\n",
      " 'Retired Hospital pharmacist' 'Retired Midwife' 'Retired Dealer'\n",
      " 'Retired Further education lecturer'\n",
      " 'Retired Production assistant, television'\n",
      " 'Retired Psychotherapist, child' 'Systems analyst' 'Retired Cabin crew'\n",
      " 'Retired Pensions consultant' 'Retired Therapist, drama'\n",
      " 'Retired Colour technologist' 'Retired Catering manager'\n",
      " 'Retired Forensic psychologist' 'Retired Occupational hygienist'\n",
      " 'Retired Administrator, sports' 'Engineer, mining'\n",
      " 'Retired Development worker, community' 'Retired Fish farm manager'\n",
      " 'Retired Quantity surveyor' 'Retired Hydrologist'\n",
      " 'Retired Agricultural engineer'\n",
      " 'Retired Chartered public finance accountant'\n",
      " 'Retired Communications engineer'\n",
      " 'Retired Senior tax professional/tax inspector'\n",
      " 'Retired Medical laboratory scientific officer'\n",
      " 'Retired Passenger transport manager' 'Diagnostic radiographer'\n",
      " 'Retired Furniture conservator/restorer' 'Retired Product designer'\n",
      " 'Retired Doctor, general practice' 'Retired Scientist, biomedical'\n",
      " 'Barrister' 'Retired Insurance risk surveyor'\n",
      " 'Retired Horticultural therapist' 'Retired Patent examiner'\n",
      " 'Retired Microbiologist' 'Retired Location manager'\n",
      " 'Community pharmacist' 'Retired Multimedia programmer'\n",
      " 'Retired Trading standards officer' 'Retired Broadcast engineer'\n",
      " 'Retired Armed forces technical officer'\n",
      " 'Retired Designer, television/film set' 'Retired Nutritional therapist'\n",
      " 'Retired Scientist, audiological' 'Retired Chief Financial Officer'\n",
      " 'Patent examiner' 'Retired Stage manager'\n",
      " 'Retired Clinical molecular geneticist'\n",
      " 'Retired Production assistant, radio' 'Retired Waste management officer'\n",
      " 'Audiological scientist' 'Retired Illustrator' 'Retired Immunologist'\n",
      " 'Cabin crew' 'Retired Intelligence analyst' 'Retired Personal assistant'\n",
      " 'Retired IT trainer' 'Retired Retail manager'\n",
      " 'Engineer, broadcasting (operations)'\n",
      " 'Retired Accountant, chartered certified' 'Retired Animal technologist'\n",
      " 'Retired Accountant, chartered public finance'\n",
      " 'Retired Surveyor, building control' 'Retired Petroleum engineer'\n",
      " 'Retired Scientist, water quality' 'Public affairs consultant'\n",
      " 'Retired Economist' 'Retired Press photographer'\n",
      " 'Retired Hydrographic surveyor' 'Retired Charity fundraiser'\n",
      " 'Retired Herbalist' 'Retired Sports development officer' 'Ergonomist'\n",
      " 'Holiday representative' 'Retired Interpreter' \"Nurse, children's\"\n",
      " 'Oceanographer' 'Retired Graphic designer' 'Retired Comptroller'\n",
      " 'Programme researcher, broadcasting/film/video'\n",
      " 'Retired Fashion designer' 'Retired Ranger/warden'\n",
      " 'Retired Chartered accountant' 'Retired Editor, magazine features'\n",
      " 'Retired Media buyer' 'Retired Barista' 'Neurosurgeon'\n",
      " 'Retired Programmer, applications' 'Retired Jewellery designer'\n",
      " 'Data scientist' 'Retired Investment analyst' 'Retired Legal executive'\n",
      " 'Counsellor' 'Retired Conservation officer, nature'\n",
      " 'Retired Occupational therapist' 'Retired Teacher, early years/pre'\n",
      " 'Retired Equality and diversity officer' 'Retired Sports therapist'\n",
      " 'Retired Glass blower/designer' 'Retired Copy' 'Retired Lobbyist'\n",
      " 'Retired Research officer, political party'\n",
      " 'Retired Special educational needs teacher'\n",
      " 'Retired Race relations officer' 'Retired Camera operator' 'TEFL teacher'\n",
      " 'Medical secretary' 'Publishing rights manager'\n",
      " 'Retired Technical sales engineer' 'Retired Physicist, medical'\n",
      " 'Health visitor' 'Corporate investment banker'\n",
      " 'Engineer, maintenance (IT)' 'Retired Acupuncturist'\n",
      " 'Retired Conservation officer, historic buildings'\n",
      " 'Retired Conservator, museum/gallery'\n",
      " 'Retired Civil Service administrator'\n",
      " 'Retired Control and instrumentation engineer'\n",
      " 'Retired Engineer, chemical' 'Retired Chartered certified accountant'\n",
      " 'Retired Actor' 'Retired Publishing rights manager'\n",
      " 'Therapist, occupational' 'Retired Cartographer'\n",
      " 'Retired Research officer, government' 'Retired Editor, commissioning'\n",
      " 'Archivist' 'Retired Archaeologist' 'Retired Insurance account manager'\n",
      " 'Retired Management consultant' 'Furniture designer'\n",
      " 'Psychotherapist, dance movement'\n",
      " 'Chartered legal executive (England and Wales)'\n",
      " 'Retired Surveyor, planning and development' 'Retired Records manager'\n",
      " 'Retired Estate manager/land agent'\n",
      " 'Retired Designer, industrial/product' 'Programmer, applications'\n",
      " 'Retired Magazine features editor' 'Retired Accounting technician'\n",
      " 'Retired Clinical cytogeneticist' 'Location manager'\n",
      " 'Retired Administrator, charities/voluntary organisations'\n",
      " 'Press photographer' 'Retired Commercial/residential surveyor'\n",
      " 'Occupational psychologist' 'Retired Media planner'\n",
      " 'Retired Teacher, secondary school' 'Retired Amenity horticulturist'\n",
      " 'Retired Psychologist, educational' 'Retired Commissioning editor'\n",
      " 'Retired Clothing/textile technologist' 'Retired Furniture designer'\n",
      " 'Retired Engineer, petroleum' 'Retired Psychiatrist'\n",
      " 'Retired Diplomatic Services operational officer'\n",
      " 'Retired Runner, broadcasting/film/video' 'Retired Insurance underwriter'\n",
      " \"Retired Politician's assistant\" 'Retired Engineer, electronics'\n",
      " 'Retired Scientist, clinical (histocompatibility and immunogenetics)'\n",
      " 'Retired Financial adviser'\n",
      " 'Retired Research scientist (physical sciences)'\n",
      " 'Retired General practice doctor' 'Retired Psychologist, occupational'\n",
      " 'Retired Legal secretary' 'Retired Dance movement psychotherapist'\n",
      " 'Retired Scientist, forensic' 'Retired Fast food restaurant manager'\n",
      " 'Retired Radiographer, therapeutic' 'Retired Therapist, sports'\n",
      " \"Retired Barrister's clerk\" 'Retired Engineer, land'\n",
      " 'Retired Health promotion specialist'\n",
      " 'Retired Sport and exercise psychologist'\n",
      " 'Retired Horticultural consultant'\n",
      " 'Retired Investment banker, operational' 'Retired Insurance broker'\n",
      " 'Retired Engineer, automotive' 'Paramedic'\n",
      " 'Retired Teacher, English as a foreign language'\n",
      " 'Retired Surveyor, land/geomatics'\n",
      " 'Retired Outdoor activities/education manager'\n",
      " 'Retired Private music teacher' 'Retired Editor, film/video'\n",
      " 'Retired Radio broadcast assistant' 'Retired Chiropractor'\n",
      " 'Retired Data scientist' 'Retired Production engineer'\n",
      " 'Retired Learning disability nurse' 'Retired Bookseller'\n",
      " 'Retired Claims inspector/assessor' 'Retired Loss adjuster, chartered'\n",
      " 'Retired Therapist, music' 'Retired Engineer, materials'\n",
      " 'Retired Herpetologist' 'Retired Retail buyer' 'Retired Prison officer'\n",
      " 'Clinical scientist, histocompatibility and immunogenetics'\n",
      " 'Retired Building services engineer' 'Retired Health and safety adviser'\n",
      " 'Retired Psychologist, counselling' 'Retired Chiropodist'\n",
      " 'Pilot, airline' 'Therapeutic radiographer' 'Retired Quarry manager'\n",
      " 'Scientist, marine' 'Engineer, civil (consulting)' 'Contractor'\n",
      " 'Retired Administrator, local government' 'Retired Health visitor'\n",
      " 'Retired Homeopath' 'Retired Commercial art gallery manager'\n",
      " 'Retired Musician' 'Retired Programmer, systems'\n",
      " 'Scientist, research (medical)' 'Phytotherapist'\n",
      " 'Retired Television production assistant'\n",
      " 'Retired Teacher, adult education' 'Retired Occupational psychologist'\n",
      " 'Retired Mining engineer' 'Retired Insurance claims handler'\n",
      " 'Retired Education administrator' 'Retired IT sales professional'\n",
      " 'Retired Fitness centre manager' 'Retired Forensic scientist'\n",
      " 'Retired Engineer, agricultural'\n",
      " 'Retired Armed forces training and education officer'\n",
      " 'Retired Restaurant manager, fast food'\n",
      " 'Retired Careers information officer' 'Civil Service administrator'\n",
      " 'Retired Emergency planning/management officer'\n",
      " 'Retired Research scientist (life sciences)' 'Retired Writer'\n",
      " 'Retired Forest/woodland manager' 'Retired Leisure centre manager'\n",
      " 'Retired Art therapist' 'Retired Engineer, biomedical'\n",
      " 'Retired Call centre manager' 'Retired Seismic interpreter'\n",
      " 'Retired Optician, dispensing' 'Retired Community education officer'\n",
      " 'Retired Agricultural consultant' 'Retired Medical secretary'\n",
      " 'Retired Sales professional, IT' 'Retired Chief Executive Officer'\n",
      " 'Retired Early years teacher' 'Retired Merchandiser, retail'\n",
      " 'Retired Logistics and distribution manager'\n",
      " 'Retired Financial controller' 'Retired Radio producer'\n",
      " 'Retired Therapist, speech and language' 'Retired Automotive engineer'\n",
      " 'Retired Oceanographer' 'Retired Speech and language therapist'\n",
      " 'Lecturer, higher education' 'Retired Energy manager'\n",
      " 'Retired Buyer, industrial' 'Retired Restaurant manager'\n",
      " 'Retired Human resources officer' 'Retired Production manager'\n",
      " 'Retired Paediatric nurse' 'Retired Operations geologist'\n",
      " 'Retired Producer, radio' 'Retired Patent attorney' 'Retired Music tutor'\n",
      " 'Retired Social research officer, government'\n",
      " 'Retired Television/film/video producer'\n",
      " 'Retired Plant breeder/geneticist' 'Retired Mental health nurse'\n",
      " 'Retired Doctor, hospital' 'Retired Facilities manager'\n",
      " 'Retired Merchant navy officer' 'Retired Hospital doctor'\n",
      " 'Retired Museum/gallery exhibitions officer' 'Retired Surveyor, mining'\n",
      " 'Retired Solicitor' 'Retired Electronics engineer' 'Film/video editor'\n",
      " 'Retired Psychologist, forensic' 'Retired Learning mentor'\n",
      " 'Retired Nurse, learning disability'\n",
      " 'Retired Civil engineer, contracting'\n",
      " 'Retired Lecturer, higher education'\n",
      " 'Retired Information systems manager'\n",
      " 'Retired Research scientist (maths)' 'Retired Sports administrator'\n",
      " 'Retired Operational researcher' 'Retired Professor Emeritus'\n",
      " 'Retired Metallurgist' 'Retired Engineer, maintenance (IT)'\n",
      " 'Retired Contracting civil engineer' 'Retired Aeronautical engineer'\n",
      " 'Retired Training and development officer' 'Retired Air broker'\n",
      " 'Retired Broadcast journalist' 'Retired Arts development officer'\n",
      " 'Retired Company secretary' 'Retired Multimedia specialist'\n",
      " 'Retired Engineer, civil (contracting)' 'Retired Photographer'\n",
      " 'Retired Engineer, structural' 'Retired Dramatherapist'\n",
      " 'Retired Secondary school teacher' 'Retired Land'\n",
      " 'Retired Structural engineer' 'Retired Magazine journalist'\n",
      " 'Retired Heritage manager' 'Retired English as a second language teacher'\n",
      " 'Retired Meteorologist' 'Retired Conference centre manager'\n",
      " 'Retired Water quality scientist' 'Retired Education officer, community'\n",
      " 'Retired Scientist, research (physical sciences)'\n",
      " 'Retired Retail merchandiser' 'Retired Designer, fashion/clothing'\n",
      " 'Retired Trade union research officer'\n",
      " 'Retired Psychotherapist, dance movement'\n",
      " 'Retired Advertising account planner' 'Retired Event organiser'\n",
      " 'Retired Engineer, control and instrumentation' 'Retired Geoscientist'\n",
      " 'Retired Futures trader' 'Retired Scientist, marine'\n",
      " 'Retired Tourist information centre manager'\n",
      " 'Retired Mechanical engineer' 'Retired Journalist, magazine'\n",
      " 'Retired Nature conservation officer']\n"
     ]
    }
   ],
   "source": [
    "import pandas as pd\n",
    "\n",
    "df = pd.read_csv('W-T2_A24census-1.csv')\n",
    "\n",
    "#Identify Potential Commuters \n",
    "occupation_counts = df['Occupation'].value_counts()\n",
    "threshold = 5 \n",
    "\n",
    "potential_commuters_low_frequency = df[df['Occupation'].isin(occupation_counts[occupation_counts <= threshold].index)]\n",
    "print(f\"\\nNumber of potential commuters (based on low-frequency occupations, excluding 'Retired' and 'Unemployed'): {len(potential_commuters_low_frequency[~potential_commuters_low_frequency['Occupation'].str.contains('Retired|Unemployed', case=False, na=False)])}\")\n",
    "\n",
    "print(\"\\nExamples of low-frequency occupations potentially indicating commuting:\")\n",
    "print(potential_commuters_low_frequency['Occupation'].unique())"
   ]
  },
  {
   "cell_type": "markdown",
   "id": "14c754d1",
   "metadata": {},
   "source": [
    "Number of potential commuters (based on low-frequency occupations, excluding 'Retired' and 'Unemployed'): 831. This data suggests that numerous students and children travel to another city on a daily basis. "
   ]
  },
  {
   "cell_type": "markdown",
   "id": "7580452f",
   "metadata": {},
   "source": [
    "#### Make a visualisation of 10 most common occupations"
   ]
  },
  {
   "cell_type": "code",
   "execution_count": 5,
   "id": "0ee10154",
   "metadata": {},
   "outputs": [
    {
     "name": "stdout",
     "output_type": "stream",
     "text": [
      "Employment Status Distribution:\n",
      " Occupation\n",
      "Student                                       1546\n",
      "Unemployed                                     511\n",
      "University Student                             504\n",
      "Child                                          382\n",
      "Exhibitions officer, museum/gallery             16\n",
      "                                              ... \n",
      "Retired Scientist, marine                        1\n",
      "Retired Tourist information centre manager       1\n",
      "Retired Mechanical engineer                      1\n",
      "Retired Journalist, magazine                     1\n",
      "Retired Nature conservation officer              1\n",
      "Name: count, Length: 1109, dtype: int64\n",
      "\n",
      "Unemployment Rate: 100.00%\n",
      "\n",
      "Top 10 Occupations (Excluding 'Retired' and 'Unemployed'):\n",
      " Occupation\n",
      "Student                                1546\n",
      "University Student                      504\n",
      "Child                                   382\n",
      "Exhibitions officer, museum/gallery      16\n",
      "Geophysical data processor               15\n",
      "PhD Student                              15\n",
      "Administrator                            14\n",
      "Radiographer, therapeutic                14\n",
      "Chartered management accountant          14\n",
      "IT sales professional                    13\n",
      "Name: count, dtype: int64\n"
     ]
    },
    {
     "name": "stderr",
     "output_type": "stream",
     "text": [
      "C:\\Users\\sofji\\AppData\\Local\\Temp\\ipykernel_21544\\2223897102.py:22: FutureWarning: \n",
      "\n",
      "Passing `palette` without assigning `hue` is deprecated and will be removed in v0.14.0. Assign the `x` variable to `hue` and set `legend=False` for the same effect.\n",
      "\n",
      "  sns.barplot(x=occupation_counts.index, y=occupation_counts.values, palette='viridis')\n"
     ]
    },
    {
     "data": {
      "image/png": "[encoded data removed]",
      "text/plain": [
       "<Figure size 1000x600 with 1 Axes>"
      ]
     },
     "metadata": {},
     "output_type": "display_data"
    }
   ],
   "source": [
    "df = pd.read_csv('W-T2_A24census-1.csv')\n",
    "\n",
    "# Analyze Employment Status\n",
    "employment_counts = df['Occupation'].value_counts()\n",
    "print(\"Employment Status Distribution:\\n\", employment_counts)\n",
    "\n",
    "unemployed_count = employment_counts.get('Unemployed', 0)\n",
    "labor_force = employment_counts.get('Employed', 0) + unemployed_count\n",
    "\n",
    "if labor_force > 0:\n",
    "    unemployment_rate = (unemployed_count / labor_force) * 100\n",
    "    print(f\"\\nUnemployment Rate: {unemployment_rate:.2f}%\")\n",
    "else:\n",
    "    print(\"\\nCould not calculate unemployment rate (no employed or unemployed individuals found).\")\n",
    "\n",
    "# Identify Common Occupations (Excluding 'Retired' and 'Unemployed')\n",
    "occupation_counts = df[~df['Occupation'].str.contains('Retired|Unemployed', case=False, na=False)]['Occupation'].value_counts().nlargest(10)\n",
    "print(\"\\nTop 10 Occupations (Excluding 'Retired' and 'Unemployed'):\\n\", occupation_counts)\n",
    "\n",
    "# Make a plot\n",
    "plt.figure(figsize=(10, 6))\n",
    "sns.barplot(x=occupation_counts.index, y=occupation_counts.values, palette='viridis')\n",
    "plt.xlabel('Occupation')\n",
    "plt.ylabel('Number of Individuals')\n",
    "plt.title('Top 10 Most Common Occupations')\n",
    "plt.xticks(rotation=45, ha='right')\n",
    "plt.tight_layout()\n",
    "plt.savefig('occupation.png', bbox_inches='tight') \n",
    "plt.show()\n",
    "\n",
    "working_population = df[~df['Occupation'].str.contains('Retired|Unemployed')]"
   ]
  },
  {
   "cell_type": "markdown",
   "id": "db537210",
   "metadata": {},
   "source": [
    "Occupational data illustrates a mix of professions typical of a commuter town. A large number of residents are students and children, but there are employed people in education, IT sales and administration fields."
   ]
  },
  {
   "cell_type": "markdown",
   "id": "4f246041",
   "metadata": {},
   "source": [
    "#### Calculate unemployement trend"
   ]
  },
  {
   "cell_type": "code",
   "execution_count": 78,
   "id": "e552a3c9",
   "metadata": {},
   "outputs": [
    {
     "name": "stdout",
     "output_type": "stream",
     "text": [
      "Occupation\n",
      "Unemployed                          511\n",
      "Retired Media buyer                   5\n",
      "Retired Actuary                       5\n",
      "Retired Lawyer                        5\n",
      "Retired Stage manager                 5\n",
      "Retired Investment analyst            5\n",
      "Retired Surgeon                       5\n",
      "Retired Advertising art director      5\n",
      "Retired Public house manager          4\n",
      "Retired Forensic scientist            4\n",
      "Name: count, dtype: int64\n"
     ]
    }
   ],
   "source": [
    "unemployed_counts = df[df['Occupation'].str.contains('Retired|Unemployed')]['Occupation'].value_counts().nlargest(10)\n",
    "print(unemployed_counts)"
   ]
  },
  {
   "cell_type": "markdown",
   "id": "dcebbaf3",
   "metadata": {},
   "source": [
    "#### Create Population Pyramid  \n",
    "Population pyramid, graphical representation of the age and sex composition of a specific population.  "
   ]
  },
  {
   "cell_type": "code",
   "execution_count": 6,
   "id": "a88d4346",
   "metadata": {},
   "outputs": [
    {
     "name": "stderr",
     "output_type": "stream",
     "text": [
      "C:\\Users\\sofji\\AppData\\Local\\Temp\\ipykernel_21544\\1909672916.py:11: FutureWarning: The default of observed=False is deprecated and will be changed to True in a future version of pandas. Pass observed=False to retain current behavior or observed=True to adopt the future default and silence this warning.\n",
      "  age_gender_counts = df.groupby(['Age', 'Gender']).size().unstack().fillna(0)\n"
     ]
    },
    {
     "data": {
      "image/png": "[encoded data removed]",
      "text/plain": [
       "<Figure size 1000x800 with 1 Axes>"
      ]
     },
     "metadata": {},
     "output_type": "display_data"
    }
   ],
   "source": [
    "import pandas as pd\n",
    "import numpy as np\n",
    "import matplotlib.pyplot as plt\n",
    "\n",
    "df = pd.read_csv('W-T2_A24census-1 - Copy_cor.csv')\n",
    "\n",
    "# Create age groups\n",
    "df['Age'] = pd.cut(df['Age'], bins=range(15, 95, 5), right=False)\n",
    "\n",
    "# Group by age group and gender\n",
    "age_gender_counts = df.groupby(['Age', 'Gender']).size().unstack().fillna(0)\n",
    "\n",
    "# Convert Female count to negative for pyramid shape\n",
    "age_gender_counts['Female'] *= -1\n",
    "\n",
    "# Plot the pyramid\n",
    "plt.figure(figsize=(10, 8))\n",
    "age_groups = age_gender_counts.index.astype(str)\n",
    "\n",
    "plt.barh(age_groups, age_gender_counts['Male'], color='skyblue', label='Male')\n",
    "plt.barh(age_groups, age_gender_counts['Female'], color='lightpink', label='Female')\n",
    "\n",
    "plt.xlabel('Population Count')\n",
    "plt.ylabel('Age Group')\n",
    "plt.title('Age-Gender Pyramid')\n",
    "plt.legend()\n",
    "plt.grid(True, axis='x', alpha=0.7)\n",
    "plt.tight_layout()\n",
    "plt.savefig('pyramid.png', bbox_inches='tight') \n",
    "plt.show()"
   ]
  },
  {
   "cell_type": "markdown",
   "id": "b02885f6",
   "metadata": {},
   "source": [
    "The population pyramid illustrates a growing population. The largest age groups are those between 35–45 years old among females, 15-10 and 35-45 years among males, indicating a high working-age rate and a need for creation workplaces and education facilities as well. People with the 60+ age groups being notably smaller. "
   ]
  },
  {
   "cell_type": "markdown",
   "id": "663962d5",
   "metadata": {},
   "source": [
    "Calculate in percentage unemployement rate"
   ]
  },
  {
   "cell_type": "code",
   "execution_count": 7,
   "id": "78e09189",
   "metadata": {},
   "outputs": [
    {
     "data": {
      "image/png": "[encoded data removed]",
      "text/plain": [
       "<Figure size 640x480 with 1 Axes>"
      ]
     },
     "metadata": {},
     "output_type": "display_data"
    }
   ],
   "source": [
    "import pandas as pd\n",
    "import matplotlib.pyplot as plt\n",
    "\n",
    "# Load data\n",
    "df = pd.read_csv('W-T2_A24census-1 - Copy_cor.csv')\n",
    "\n",
    "# Clean up Age column\n",
    "df['Age'] = pd.to_numeric(df['Age'], errors='coerce')\n",
    "df = df.dropna(subset=['Age', 'Occupation'])\n",
    "df['Age'] = df['Age'].astype(int)\n",
    "\n",
    "# Create 'Status' column\n",
    "df['Occupation'] = df['Occupation'].astype(str).str.lower().str.strip()\n",
    "df['Status'] = 'Employed'\n",
    "df.loc[df['Occupation'].isin(['unemployed', 'retired', '']), 'Status'] = 'Unemployed'\n",
    "\n",
    "# Count employed and unemployed per age\n",
    "counts = df.groupby(['Age', 'Status']).size().unstack().fillna(0)\n",
    "\n",
    "# Calculate unemployment rate\n",
    "counts['Rate'] = (counts['Unemployed'] / (counts['Employed'] + counts['Unemployed'])) * 100\n",
    "\n",
    "# Plot\n",
    "plt.plot(counts.index, counts['Rate'], color='tomato')\n",
    "plt.title('Unemployment Rate by Age')\n",
    "plt.xlabel('Age')\n",
    "plt.ylabel('Unemployment Rate (%)')\n",
    "plt.grid(True, linestyle='--', alpha=0.5)\n",
    "plt.tight_layout()\n",
    "plt.savefig('unemployment.png', bbox_inches='tight') \n",
    "plt.show()"
   ]
  },
  {
   "cell_type": "markdown",
   "id": "89a2f501",
   "metadata": {},
   "source": [
    "According to the Unemployment rate, the highest percentage of unemployed people is in the age group 20-40 and 85-90. Some reasons can be a key factor, for instance, low work experience, graduation, lack of suitable work or not enough skills for a position. From 40- to 80-year-old we can see a decrease in unemployment trend. From the age 45-65 the unemployment seems to be stable due to constant work and appropriate experience. As for a retirement age 80-90, we can see a slightly increase in unemployment. "
   ]
  },
  {
   "cell_type": "markdown",
   "id": "d7c4290a",
   "metadata": {},
   "source": [
    "Calculate the persentage of marriage and divorce rate"
   ]
  },
  {
   "cell_type": "code",
   "execution_count": 105,
   "id": "205caa1f",
   "metadata": {},
   "outputs": [
    {
     "name": "stdout",
     "output_type": "stream",
     "text": [
      "Marriage Rate: 28.26%\n",
      "Divorce Rate: 9.26%\n"
     ]
    }
   ],
   "source": [
    "df = pd.read_csv('W-T2_A24census-1 - Copy_cor.csv')\n",
    "\n",
    "# Clean up columns\n",
    "df['Marital Status'] = df['Marital Status'].astype(str).str.strip().str.title()\n",
    "df['House Number'] = df['House Number'].astype(str).str.strip()  # Replace with your actual column name\n",
    "\n",
    "# Marital Status Rates\n",
    "total_people = len(df)\n",
    "marital_counts = df['Marital Status'].value_counts()\n",
    "\n",
    "marriage_rate = (marital_counts.get('Married', 0) / total_people) * 100\n",
    "divorce_rate = (marital_counts.get('Divorced', 0) / total_people) * 100\n",
    "\n",
    "print(f\"Marriage Rate: {marriage_rate:.2f}%\")\n",
    "print(f\"Divorce Rate: {divorce_rate:.2f}%\")"
   ]
  },
  {
   "cell_type": "markdown",
   "id": "725247de",
   "metadata": {},
   "source": [
    "Calculate Average Household Occupancy"
   ]
  },
  {
   "cell_type": "code",
   "execution_count": 106,
   "id": "fb5e8191",
   "metadata": {},
   "outputs": [
    {
     "name": "stdout",
     "output_type": "stream",
     "text": [
      "Average Household Occupancy: 2.54 people per household\n"
     ]
    }
   ],
   "source": [
    "# Count people per house\n",
    "df['Full Address'] = df['House Number'].astype(str).str.strip() + ' ' + df['Street'].astype(str).str.strip()\n",
    "household_sizes = df.groupby('Full Address').size()\n",
    "average_occupancy = household_sizes.mean()\n",
    "print(f\"Average Household Occupancy: {average_occupancy:.2f} people per household\")"
   ]
  },
  {
   "cell_type": "markdown",
   "id": "05f26e13",
   "metadata": {},
   "source": [
    "“The average household size remained similar over the last 10 years, with 2.36 residents per household in both 2012 and in 2022” (UK Government, 2023).   \n",
    "According to the data, the Average Household Occupancy in the census data is 2.54 people per household. The average household size is approximately 2 to 4 individuals per household. As for divorce and marriage rate, we found out that marriage rate is 28.26% and divorce rate is 9.26%. A small number of people is divorced and live alone, while marriage people have children and live together. There is minimal evidence of overcrowding. "
   ]
  },
  {
   "cell_type": "markdown",
   "id": "94e90b08",
   "metadata": {},
   "source": [
    "### Conclusion"
   ]
  },
  {
   "cell_type": "markdown",
   "id": "363497cc",
   "metadata": {},
   "source": [
    "This analysis illustrates that on an unoccupied plot of land should be built a low-density housing which would fit better to developing demographic trends, indicating a growing number of young families and an aging population. What is more, the town should increase spending on schooling due to the fact that it is a burning issue in the town because current schooling provisions appear insufficient. These findings are based on demographic distribution, occupational data, and religion analysis, and are supported by statistical and visual evidence from the census dataset. \n",
    "In addition, the above improvements can help the town to satisfy residents needs and invest in its future to provide residents with a workplaces and social stability. Thus, the clear policy and rules should be created. Such measures can help the town to grow and prevent administrative confusion."
   ]
  },
  {
   "cell_type": "code",
   "execution_count": null,
   "id": "00213467",
   "metadata": {},
   "outputs": [],
   "source": []
  }
 ],
 "metadata": {
  "kernelspec": {
   "display_name": "Python 3",
   "language": "python",
   "name": "python3"
  },
  "language_info": {
   "codemirror_mode": {
    "name": "ipython",
    "version": 3
   },
   "file_extension": ".py",
   "mimetype": "text/x-python",
   "name": "python",
   "nbconvert_exporter": "python",
   "pygments_lexer": "ipython3",
   "version": "3.11.9"
  }
 },
 "nbformat": 4,
 "nbformat_minor": 5
}
