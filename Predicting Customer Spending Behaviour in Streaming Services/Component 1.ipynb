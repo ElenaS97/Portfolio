{
 "cells": [
  {
   "cell_type": "markdown",
   "id": "932e523c-d04d-4643-9419-4de506c69476",
   "metadata": {},
   "source": [
    "### COMPONENT ONE: Predicting Customer Spending Behaviour in Streaming Services"
   ]
  },
  {
   "cell_type": "markdown",
   "id": "263a59de-def7-48a7-91c3-65edbd752d88",
   "metadata": {},
   "source": [
    "How supervised learning models can predict Customer spending and behaviour patterns in streaming services based on information in this dataset?\n",
    "Apply classification algorithms and unsupervised learning techniques to determine customer churn and identify clustering patterns in customer behaviour."
   ]
  },
  {
   "cell_type": "markdown",
   "id": "7bd35fee-8be4-4b31-95e9-bab53b4bb292",
   "metadata": {},
   "source": [
    "### Cleaning Data"
   ]
  },
  {
   "cell_type": "code",
   "execution_count": 7,
   "id": "04d2860d-711c-466a-a4d7-561b98faeb89",
   "metadata": {},
   "outputs": [
    {
     "name": "stdout",
     "output_type": "stream",
     "text": [
      "     Customer_ID   Age  Gender  Subscription_Length Region Payment_Method  \\\n",
      "0     CUST000001  56.0    Male                   54  South         PayPal   \n",
      "1     CUST000002  69.0  Female                   21   East     Debit Card   \n",
      "2     CUST000003  46.0  Female                   49   East         PayPal   \n",
      "3     CUST000004  32.0    Male                   47   West     Debit Card   \n",
      "4     CUST000005  60.0    Male                    6   East    Credit Card   \n",
      "...          ...   ...     ...                  ...    ...            ...   \n",
      "4995  CUST004996  24.0    Male                    5   East     Debit Card   \n",
      "4996  CUST004997  66.0  Female                   12   East         PayPal   \n",
      "4997  CUST004998  26.0  Female                    1   East    Credit Card   \n",
      "4998  CUST004999  53.0  Female                   44  South     Debit Card   \n",
      "4999  CUST005000  36.0  Female                   22   East     Debit Card   \n",
      "\n",
      "      Support_Tickets_Raised  Satisfaction_Score  Discount_Offered  \\\n",
      "0                          0                 9.0              6.42   \n",
      "1                          1                 2.0             13.77   \n",
      "2                          3                 8.0             19.91   \n",
      "3                          3                 1.0             13.39   \n",
      "4                          2                 NaN             13.18   \n",
      "...                      ...                 ...               ...   \n",
      "4995                       0                 8.0             18.03   \n",
      "4996                       3                 5.0              5.84   \n",
      "4997                       2                 8.0              6.76   \n",
      "4998                       1                10.0              5.95   \n",
      "4999                       1                 8.0             11.36   \n",
      "\n",
      "      Last_Activity  Monthly_Spend  Churned  \n",
      "0               319          62.11        1  \n",
      "1               166          37.27        1  \n",
      "2               207          61.82        0  \n",
      "3               108          40.96        1  \n",
      "4                65          45.97        0  \n",
      "...             ...            ...      ...  \n",
      "4995            121          51.61        0  \n",
      "4996            192          36.32        0  \n",
      "4997            354          42.07        1  \n",
      "4998             31          60.09        0  \n",
      "4999            357          49.48        1  \n",
      "\n",
      "[5000 rows x 12 columns]\n"
     ]
    },
    {
     "data": {
      "text/html": [
       "<div>\n",
       "<style scoped>\n",
       "    .dataframe tbody tr th:only-of-type {\n",
       "        vertical-align: middle;\n",
       "    }\n",
       "\n",
       "    .dataframe tbody tr th {\n",
       "        vertical-align: top;\n",
       "    }\n",
       "\n",
       "    .dataframe thead th {\n",
       "        text-align: right;\n",
       "    }\n",
       "</style>\n",
       "<table border=\"1\" class=\"dataframe\">\n",
       "  <thead>\n",
       "    <tr style=\"text-align: right;\">\n",
       "      <th></th>\n",
       "      <th>Age</th>\n",
       "      <th>Subscription_Length</th>\n",
       "      <th>Support_Tickets_Raised</th>\n",
       "      <th>Satisfaction_Score</th>\n",
       "      <th>Discount_Offered</th>\n",
       "      <th>Last_Activity</th>\n",
       "      <th>Monthly_Spend</th>\n",
       "      <th>Churned</th>\n",
       "    </tr>\n",
       "  </thead>\n",
       "  <tbody>\n",
       "    <tr>\n",
       "      <th>count</th>\n",
       "      <td>4500.000000</td>\n",
       "      <td>5000.000000</td>\n",
       "      <td>5000.000000</td>\n",
       "      <td>4500.00000</td>\n",
       "      <td>5000.000000</td>\n",
       "      <td>5000.000000</td>\n",
       "      <td>5000.000000</td>\n",
       "      <td>5000.000000</td>\n",
       "    </tr>\n",
       "    <tr>\n",
       "      <th>mean</th>\n",
       "      <td>43.582222</td>\n",
       "      <td>29.704400</td>\n",
       "      <td>2.037000</td>\n",
       "      <td>5.54600</td>\n",
       "      <td>12.458404</td>\n",
       "      <td>181.441400</td>\n",
       "      <td>46.619784</td>\n",
       "      <td>0.448000</td>\n",
       "    </tr>\n",
       "    <tr>\n",
       "      <th>std</th>\n",
       "      <td>14.969559</td>\n",
       "      <td>17.050336</td>\n",
       "      <td>1.422405</td>\n",
       "      <td>2.86929</td>\n",
       "      <td>4.325381</td>\n",
       "      <td>104.500951</td>\n",
       "      <td>9.522140</td>\n",
       "      <td>0.497338</td>\n",
       "    </tr>\n",
       "    <tr>\n",
       "      <th>min</th>\n",
       "      <td>18.000000</td>\n",
       "      <td>1.000000</td>\n",
       "      <td>0.000000</td>\n",
       "      <td>1.00000</td>\n",
       "      <td>5.000000</td>\n",
       "      <td>1.000000</td>\n",
       "      <td>-5.060000</td>\n",
       "      <td>0.000000</td>\n",
       "    </tr>\n",
       "    <tr>\n",
       "      <th>25%</th>\n",
       "      <td>31.000000</td>\n",
       "      <td>15.000000</td>\n",
       "      <td>1.000000</td>\n",
       "      <td>3.00000</td>\n",
       "      <td>8.700000</td>\n",
       "      <td>90.000000</td>\n",
       "      <td>39.897500</td>\n",
       "      <td>0.000000</td>\n",
       "    </tr>\n",
       "    <tr>\n",
       "      <th>50%</th>\n",
       "      <td>43.000000</td>\n",
       "      <td>29.000000</td>\n",
       "      <td>2.000000</td>\n",
       "      <td>6.00000</td>\n",
       "      <td>12.500000</td>\n",
       "      <td>182.000000</td>\n",
       "      <td>46.625000</td>\n",
       "      <td>0.000000</td>\n",
       "    </tr>\n",
       "    <tr>\n",
       "      <th>75%</th>\n",
       "      <td>56.000000</td>\n",
       "      <td>44.000000</td>\n",
       "      <td>3.000000</td>\n",
       "      <td>8.00000</td>\n",
       "      <td>16.190000</td>\n",
       "      <td>271.000000</td>\n",
       "      <td>53.210000</td>\n",
       "      <td>1.000000</td>\n",
       "    </tr>\n",
       "    <tr>\n",
       "      <th>max</th>\n",
       "      <td>69.000000</td>\n",
       "      <td>59.000000</td>\n",
       "      <td>9.000000</td>\n",
       "      <td>10.00000</td>\n",
       "      <td>20.000000</td>\n",
       "      <td>364.000000</td>\n",
       "      <td>137.310000</td>\n",
       "      <td>1.000000</td>\n",
       "    </tr>\n",
       "  </tbody>\n",
       "</table>\n",
       "</div>"
      ],
      "text/plain": [
       "               Age  Subscription_Length  Support_Tickets_Raised  \\\n",
       "count  4500.000000          5000.000000             5000.000000   \n",
       "mean     43.582222            29.704400                2.037000   \n",
       "std      14.969559            17.050336                1.422405   \n",
       "min      18.000000             1.000000                0.000000   \n",
       "25%      31.000000            15.000000                1.000000   \n",
       "50%      43.000000            29.000000                2.000000   \n",
       "75%      56.000000            44.000000                3.000000   \n",
       "max      69.000000            59.000000                9.000000   \n",
       "\n",
       "       Satisfaction_Score  Discount_Offered  Last_Activity  Monthly_Spend  \\\n",
       "count          4500.00000       5000.000000    5000.000000    5000.000000   \n",
       "mean              5.54600         12.458404     181.441400      46.619784   \n",
       "std               2.86929          4.325381     104.500951       9.522140   \n",
       "min               1.00000          5.000000       1.000000      -5.060000   \n",
       "25%               3.00000          8.700000      90.000000      39.897500   \n",
       "50%               6.00000         12.500000     182.000000      46.625000   \n",
       "75%               8.00000         16.190000     271.000000      53.210000   \n",
       "max              10.00000         20.000000     364.000000     137.310000   \n",
       "\n",
       "           Churned  \n",
       "count  5000.000000  \n",
       "mean      0.448000  \n",
       "std       0.497338  \n",
       "min       0.000000  \n",
       "25%       0.000000  \n",
       "50%       0.000000  \n",
       "75%       1.000000  \n",
       "max       1.000000  "
      ]
     },
     "execution_count": 7,
     "metadata": {},
     "output_type": "execute_result"
    }
   ],
   "source": [
    "import csv\n",
    "import pandas as pd\n",
    "import numpy as np\n",
    "import seaborn as sns\n",
    "import matplotlib as plt\n",
    "import matplotlib.pyplot as plt\n",
    "\n",
    "df = pd.read_csv('Streaming.csv')\n",
    "print(df)\n",
    "\n",
    "df.head()\n",
    "# Check missing values\n",
    "df.isnull().sum()\n",
    "\n",
    "df.describe()"
   ]
  },
  {
   "cell_type": "code",
   "execution_count": 8,
   "id": "ade8e8bb-41ec-4c17-be0e-8c254bd1e571",
   "metadata": {},
   "outputs": [
    {
     "name": "stdout",
     "output_type": "stream",
     "text": [
      "[43 46 32 25 38 36 28 41 20 39 19 50 29 42 44 45 33 24 26 35 21 31 34 23\n",
      " 27 48 40 18 22 30 49 47 37]\n"
     ]
    },
    {
     "data": {
      "text/plain": [
       "Customer_ID               0\n",
       "Age                       0\n",
       "Gender                    0\n",
       "Subscription_Length       0\n",
       "Region                    0\n",
       "Payment_Method            0\n",
       "Support_Tickets_Raised    0\n",
       "Satisfaction_Score        0\n",
       "Discount_Offered          0\n",
       "Last_Activity             0\n",
       "Monthly_Spend             0\n",
       "Churned                   0\n",
       "dtype: int64"
      ]
     },
     "execution_count": 8,
     "metadata": {},
     "output_type": "execute_result"
    }
   ],
   "source": [
    "# Fill missing values in the 'Age' column with the median age\n",
    "median_age = df['Age'].median()\n",
    "df['Age'] = df['Age'].fillna(median_age)\n",
    "\n",
    "# Function to replace age > 50 with median age\n",
    "def replace_age(age):\n",
    "    if age > 50:\n",
    "        return median_age\n",
    "    else:\n",
    "        return age\n",
    "\n",
    "# Apply the function to the 'Age' column\n",
    "df['Age'] = df['Age'].apply(replace_age)\n",
    "\n",
    "# Convert ages to integers to remove decimal points\n",
    "df['Age'] = df['Age'].astype(int)\n",
    "\n",
    "# Print unique values in the 'Age' column\n",
    "print(df['Age'].unique())\n",
    "\n",
    "# Save the corrected DataFrame to a new file\n",
    "df.to_csv('Streaming1.csv', index=False)\n",
    "\n",
    "# change missing values on 0 due to the fact that we unable to predict the score\n",
    "df['Satisfaction_Score'] = df['Satisfaction_Score'].fillna(str(\"0\"))\n",
    "\n",
    "# Save the corrected DataFrame to the existing file\n",
    "df.to_csv('Streaming1.csv', index=False)\n",
    "\n",
    "df.isnull().sum()"
   ]
  },
  {
   "cell_type": "markdown",
   "id": "af1eb9e9-6db9-450f-9ab2-0b82a51c9d49",
   "metadata": {},
   "source": [
    "### (a) Compare regression models that predict \"Monthly Spend\" based on a single numerical input feature.  \n",
    "Based on your results, which numerical variable in the dataset is the best predictor of Monthly Spend and why? For each numerical input feature, does Monthly Spend fit better with a linear model or a non-linear model (e.g., polynomial regression)?"
   ]
  },
  {
   "cell_type": "code",
   "execution_count": 90,
   "id": "dff7c60d-d744-474b-b7a3-5636e3848add",
   "metadata": {},
   "outputs": [
    {
     "name": "stdout",
     "output_type": "stream",
     "text": [
      "Best Predictor of Monthly Spend: Satisfaction_Score\n",
      "                  Feature        R²      RMSE        MSE\n",
      "3      Satisfaction_Score  0.369243  7.551213  57.020813\n",
      "1     Subscription_Length  0.282882  8.051573  64.827829\n",
      "6                 Churned  0.181645  8.601150  73.979788\n",
      "4        Discount_Offered  0.044591  9.293519  86.369492\n",
      "2  Support_Tickets_Raised  0.017760  9.423111  88.795027\n",
      "5           Last_Activity -0.000999  9.512671  90.490906\n",
      "0                     Age -0.001267  9.513944  90.515134\n"
     ]
    },
    {
     "data": {
      "image/png": "[encoded data removed]",
      "text/plain": [
       "<Figure size 800x500 with 1 Axes>"
      ]
     },
     "metadata": {},
     "output_type": "display_data"
    },
    {
     "data": {
      "image/png": "[encoded data removed]",
      "text/plain": [
       "<Figure size 1000x500 with 1 Axes>"
      ]
     },
     "metadata": {},
     "output_type": "display_data"
    }
   ],
   "source": [
    "import pandas as pd\n",
    "import numpy as np\n",
    "import matplotlib.pyplot as plt\n",
    "from sklearn.model_selection import train_test_split\n",
    "from sklearn.linear_model import LinearRegression\n",
    "from sklearn.preprocessing import PolynomialFeatures\n",
    "from sklearn.metrics import mean_squared_error, r2_score\n",
    "\n",
    "df = pd.read_csv('Streaming1.csv')\n",
    "# Identify numerical columns\n",
    "numerical_features = df.select_dtypes(include=['number']).columns.tolist()\n",
    "\n",
    "# Exclude the target variable\n",
    "numerical_features.remove('Monthly_Spend')\n",
    "\n",
    "# Store results\n",
    "results = []\n",
    "\n",
    "for feature in numerical_features:\n",
    "    X = df[[feature]]\n",
    "    y = df['Monthly_Spend']\n",
    "\n",
    "    X_train, X_test, y_train, y_test = train_test_split(X, y, test_size=0.2, random_state=42)\n",
    "\n",
    "    # Linear Regression Model\n",
    "    lin_reg = LinearRegression()\n",
    "    lin_reg.fit(X_train, y_train)\n",
    "    y_pred = lin_reg.predict(X_test)\n",
    "    r2 = r2_score(y_test, y_pred)\n",
    "    rmse = np.sqrt(mean_squared_error(y_test, y_pred))\n",
    "    mse = mean_squared_error(y_test, y_pred)\n",
    "\n",
    "    results.append({'Feature': feature, 'R²': r2, 'RMSE': rmse, 'MSE': mse})\n",
    "\n",
    "# Convert results to DataFrame\n",
    "results_df = pd.DataFrame(results)\n",
    "\n",
    "# Find the best predictor\n",
    "best_feature = results_df.loc[results_df['R²'].idxmax()]\n",
    "\n",
    "# Display results\n",
    "print(\"Best Predictor of Monthly Spend:\", best_feature['Feature'])\n",
    "print(results_df.sort_values(by='R²', ascending=False))\n",
    "\n",
    "# Plot the best predictor\n",
    "best_X = df[[best_feature['Feature']]]\n",
    "best_y = df['Monthly_Spend']\n",
    "\n",
    "X_train, X_test, y_train, y_test = train_test_split(best_X, best_y, test_size=0.2, random_state=42)\n",
    "lin_reg = LinearRegression()\n",
    "lin_reg.fit(X_train, y_train)\n",
    "y_pred = lin_reg.predict(X_test)\n",
    "\n",
    "# Linear Regression\n",
    "plt.figure(figsize=(8, 5))\n",
    "plt.scatter(X_test, y_test, color='gray', label='Actual Data')\n",
    "plt.plot(X_test, y_pred, color='blue', label='Linear Fit')\n",
    "plt.xlabel(best_feature['Feature'])\n",
    "plt.ylabel('Monthly Spend')\n",
    "plt.title('Linear Regression')\n",
    "plt.legend()\n",
    "plt.show()\n",
    "\n",
    "# Polynomial Regression\n",
    "poly = PolynomialFeatures(degree=2)\n",
    "X_poly = poly.fit_transform(best_X)\n",
    "X_train_poly, X_test_poly, y_train, y_test = train_test_split(X_poly, best_y, test_size=0.2, random_state=42)\n",
    "poly_reg = LinearRegression()\n",
    "poly_reg.fit(X_train_poly, y_train)\n",
    "y_pred_poly = poly_reg.predict(X_test_poly)\n",
    "\n",
    "plt.figure(figsize=(10, 5))\n",
    "plt.scatter(X_test, y_test, color='gray', label='Actual Data')\n",
    "plt.scatter(X_test, y_pred_poly, color='red', label='Polynomial Fit')\n",
    "plt.xlabel(best_feature['Feature'])\n",
    "plt.ylabel('Monthly Spend')\n",
    "plt.title('Polynomial Regression')\n",
    "plt.legend()\n",
    "plt.show()"
   ]
  },
  {
   "cell_type": "markdown",
   "id": "6ca703a8-6042-4f9c-8399-acac4fdf9bad",
   "metadata": {},
   "source": [
    "### (b) Consider regression models that take multiple numerical variables as input features to predict \"Monthly Spend\".  \n",
    "Does including multiple features improve prediction accuracy\n",
    "compared to single-variable models from part (a)?"
   ]
  },
  {
   "cell_type": "code",
   "execution_count": 10,
   "id": "494b2c18-c7f5-41bc-9c99-72e5902ff958",
   "metadata": {},
   "outputs": [
    {
     "name": "stdout",
     "output_type": "stream",
     "text": [
      "Multiple Linear Regression MSE: 30.6625\n",
      "Multiple Linear Regression R² Score: 0.6608\n",
      "Multiple Linear Regression RMSE Score: 5.5374\n"
     ]
    }
   ],
   "source": [
    "from sklearn.model_selection import train_test_split\n",
    "from sklearn.linear_model import LinearRegression\n",
    "from sklearn.metrics import mean_squared_error, r2_score\n",
    "\n",
    "df = pd.read_csv('Streaming1.csv')\n",
    "features = ['Age', 'Subscription_Length', 'Satisfaction_Score']\n",
    "X = df[features]\n",
    "y = df['Monthly_Spend']\n",
    "\n",
    "# Split into training and test sets\n",
    "X_train, X_test, y_train, y_test = train_test_split(X, y, test_size=0.2, random_state=42)\n",
    "\n",
    "# Train the multiple regression model\n",
    "reg = LinearRegression()\n",
    "reg.fit(X_train, y_train)\n",
    "\n",
    "# Predictions\n",
    "y_pred = reg.predict(X_test)\n",
    "\n",
    "# Model performance\n",
    "mse = mean_squared_error(y_test, y_pred)\n",
    "r2 = r2_score(y_test, y_pred)\n",
    "rmse = np.sqrt(mean_squared_error(y_test, y_pred))\n",
    "\n",
    "print(f\"Multiple Linear Regression MSE: {mse:.4f}\")\n",
    "print(f\"Multiple Linear Regression R² Score: {r2:.4f}\")\n",
    "print(f\"Multiple Linear Regression RMSE Score: {rmse:.4f}\")"
   ]
  },
  {
   "cell_type": "markdown",
   "id": "72342c56-8987-4792-9407-3f229356da2a",
   "metadata": {},
   "source": [
    "### (c) categorical variables  \n",
    "In parts (a) and (b), you only considered numerical variables as input. However, several\n",
    "categorical variables (e.g., Gender, Region, Payment_Method) might also affect Monthly\n",
    "Spend. Now train a regression model that uses both categorical and numerical variables (e.g.,\n",
    "a Random Forest Regressor). Does this improve the model’s performance?"
   ]
  },
  {
   "cell_type": "code",
   "execution_count": 11,
   "id": "45fd92a3-406b-45c4-a399-0e1456246625",
   "metadata": {},
   "outputs": [
    {
     "name": "stdout",
     "output_type": "stream",
     "text": [
      "R²: 0.8816\n",
      "MSE: 10.7062\n",
      "RMSE: 3.2720\n",
      "\n",
      "Categorical variables improved performance.\n"
     ]
    }
   ],
   "source": [
    "import pandas as pd\n",
    "import numpy as np\n",
    "from sklearn.model_selection import train_test_split\n",
    "from sklearn.ensemble import RandomForestRegressor\n",
    "from sklearn.metrics import r2_score, mean_squared_error\n",
    "from sklearn.preprocessing import OneHotEncoder\n",
    "from sklearn.compose import ColumnTransformer\n",
    "from sklearn.pipeline import Pipeline\n",
    "import matplotlib.pyplot as plt\n",
    "\n",
    "df = pd.read_csv('Streaming1.csv')\n",
    "# numerical and categorical columns\n",
    "numerical_features = df.select_dtypes(include=['number']).columns.tolist()\n",
    "categorical_features = df.select_dtypes(include=['object']).columns.tolist()\n",
    "\n",
    "# Exclude the target variable\n",
    "numerical_features.remove('Monthly_Spend')\n",
    "\n",
    "X = df[numerical_features + categorical_features]\n",
    "y = df['Monthly_Spend']\n",
    "\n",
    "X_train, X_test, y_train, y_test = train_test_split(X, y, test_size=0.2, random_state=42)\n",
    "\n",
    "# Create a column transformer for preprocessing\n",
    "preprocessor = ColumnTransformer(\n",
    "    transformers=[\n",
    "        ('num', 'passthrough', numerical_features),\n",
    "        ('cat', OneHotEncoder(handle_unknown='ignore'), categorical_features)\n",
    "    ])\n",
    "\n",
    "# Create a pipeline with preprocessing and Random Forest Regressor\n",
    "model = Pipeline(steps=[\n",
    "    ('preprocessor', preprocessor),\n",
    "    ('regressor', RandomForestRegressor(random_state=42))\n",
    "])\n",
    "\n",
    "# Train the model\n",
    "model.fit(X_train, y_train)\n",
    "\n",
    "y_pred = model.predict(X_test)\n",
    "\n",
    "# Calculate metrics\n",
    "r2 = r2_score(y_test, y_pred)\n",
    "mse = mean_squared_error(y_test, y_pred)\n",
    "rmse = np.sqrt(mse)\n",
    "\n",
    "print(f\"R²: {r2:.4f}\")\n",
    "print(f\"MSE: {mse:.4f}\")\n",
    "print(f\"RMSE: {rmse:.4f}\")\n",
    "\n",
    "best_r2_numerical_only = 0.6608\n",
    "\n",
    "if r2 > best_r2_numerical_only:\n",
    "    print(\"\\nCategorical variables improved performance.\")\n",
    "else:\n",
    "    print(\"\\nCategorical variables did not improve performance.\")"
   ]
  },
  {
   "cell_type": "markdown",
   "id": "4ccb2d59-c291-4822-b316-b2dbb62ec34a",
   "metadata": {},
   "source": [
    "### (d) Artificial Neural Network (ANN) model  \n",
    "Develop an Artificial Neural Network (ANN) model to predict Monthly Spend based on all\n",
    "available features in the dataset. How does its performance compare to other supervised\n",
    "learning models?  \n",
    "Discuss your neural network architecture, hyperparameter tuning, and\n",
    "optimization choices."
   ]
  },
  {
   "cell_type": "code",
   "execution_count": 94,
   "id": "d578aba2-9404-466a-ab20-6c5ee95996e6",
   "metadata": {},
   "outputs": [
    {
     "name": "stderr",
     "output_type": "stream",
     "text": [
      "C:\\Program Files\\Python312\\Lib\\site-packages\\keras\\src\\layers\\core\\dense.py:86: UserWarning: Do not pass an `input_shape`/`input_dim` argument to a layer. When using Sequential models, prefer using an `Input(shape)` object as the first layer in the model instead.\n",
      "  super().__init__(activity_regularizer=activity_regularizer, **kwargs)\n"
     ]
    },
    {
     "data": {
      "text/html": [
       "<pre style=\"white-space:pre;overflow-x:auto;line-height:normal;font-family:Menlo,'DejaVu Sans Mono',consolas,'Courier New',monospace\"><span style=\"font-weight: bold\">Model: \"sequential_5\"</span>\n",
       "</pre>\n"
      ],
      "text/plain": [
       "\u001b[1mModel: \"sequential_5\"\u001b[0m\n"
      ]
     },
     "metadata": {},
     "output_type": "display_data"
    },
    {
     "data": {
      "text/html": [
       "<pre style=\"white-space:pre;overflow-x:auto;line-height:normal;font-family:Menlo,'DejaVu Sans Mono',consolas,'Courier New',monospace\">┏━━━━━━━━━━━━━━━━━━━━━━━━━━━━━━━━━━━━━━┳━━━━━━━━━━━━━━━━━━━━━━━━━━━━━┳━━━━━━━━━━━━━━━━━┓\n",
       "┃<span style=\"font-weight: bold\"> Layer (type)                         </span>┃<span style=\"font-weight: bold\"> Output Shape                </span>┃<span style=\"font-weight: bold\">         Param # </span>┃\n",
       "┡━━━━━━━━━━━━━━━━━━━━━━━━━━━━━━━━━━━━━━╇━━━━━━━━━━━━━━━━━━━━━━━━━━━━━╇━━━━━━━━━━━━━━━━━┩\n",
       "│ dense_10 (<span style=\"color: #0087ff; text-decoration-color: #0087ff\">Dense</span>)                     │ (<span style=\"color: #00d7ff; text-decoration-color: #00d7ff\">None</span>, <span style=\"color: #00af00; text-decoration-color: #00af00\">64</span>)                  │         <span style=\"color: #00af00; text-decoration-color: #00af00\">257,088</span> │\n",
       "├──────────────────────────────────────┼─────────────────────────────┼─────────────────┤\n",
       "│ dropout_2 (<span style=\"color: #0087ff; text-decoration-color: #0087ff\">Dropout</span>)                  │ (<span style=\"color: #00d7ff; text-decoration-color: #00d7ff\">None</span>, <span style=\"color: #00af00; text-decoration-color: #00af00\">64</span>)                  │               <span style=\"color: #00af00; text-decoration-color: #00af00\">0</span> │\n",
       "├──────────────────────────────────────┼─────────────────────────────┼─────────────────┤\n",
       "│ dense_11 (<span style=\"color: #0087ff; text-decoration-color: #0087ff\">Dense</span>)                     │ (<span style=\"color: #00d7ff; text-decoration-color: #00d7ff\">None</span>, <span style=\"color: #00af00; text-decoration-color: #00af00\">64</span>)                  │           <span style=\"color: #00af00; text-decoration-color: #00af00\">4,160</span> │\n",
       "├──────────────────────────────────────┼─────────────────────────────┼─────────────────┤\n",
       "│ dense_12 (<span style=\"color: #0087ff; text-decoration-color: #0087ff\">Dense</span>)                     │ (<span style=\"color: #00d7ff; text-decoration-color: #00d7ff\">None</span>, <span style=\"color: #00af00; text-decoration-color: #00af00\">1</span>)                   │              <span style=\"color: #00af00; text-decoration-color: #00af00\">65</span> │\n",
       "└──────────────────────────────────────┴─────────────────────────────┴─────────────────┘\n",
       "</pre>\n"
      ],
      "text/plain": [
       "┏━━━━━━━━━━━━━━━━━━━━━━━━━━━━━━━━━━━━━━┳━━━━━━━━━━━━━━━━━━━━━━━━━━━━━┳━━━━━━━━━━━━━━━━━┓\n",
       "┃\u001b[1m \u001b[0m\u001b[1mLayer (type)                        \u001b[0m\u001b[1m \u001b[0m┃\u001b[1m \u001b[0m\u001b[1mOutput Shape               \u001b[0m\u001b[1m \u001b[0m┃\u001b[1m \u001b[0m\u001b[1m        Param #\u001b[0m\u001b[1m \u001b[0m┃\n",
       "┡━━━━━━━━━━━━━━━━━━━━━━━━━━━━━━━━━━━━━━╇━━━━━━━━━━━━━━━━━━━━━━━━━━━━━╇━━━━━━━━━━━━━━━━━┩\n",
       "│ dense_10 (\u001b[38;5;33mDense\u001b[0m)                     │ (\u001b[38;5;45mNone\u001b[0m, \u001b[38;5;34m64\u001b[0m)                  │         \u001b[38;5;34m257,088\u001b[0m │\n",
       "├──────────────────────────────────────┼─────────────────────────────┼─────────────────┤\n",
       "│ dropout_2 (\u001b[38;5;33mDropout\u001b[0m)                  │ (\u001b[38;5;45mNone\u001b[0m, \u001b[38;5;34m64\u001b[0m)                  │               \u001b[38;5;34m0\u001b[0m │\n",
       "├──────────────────────────────────────┼─────────────────────────────┼─────────────────┤\n",
       "│ dense_11 (\u001b[38;5;33mDense\u001b[0m)                     │ (\u001b[38;5;45mNone\u001b[0m, \u001b[38;5;34m64\u001b[0m)                  │           \u001b[38;5;34m4,160\u001b[0m │\n",
       "├──────────────────────────────────────┼─────────────────────────────┼─────────────────┤\n",
       "│ dense_12 (\u001b[38;5;33mDense\u001b[0m)                     │ (\u001b[38;5;45mNone\u001b[0m, \u001b[38;5;34m1\u001b[0m)                   │              \u001b[38;5;34m65\u001b[0m │\n",
       "└──────────────────────────────────────┴─────────────────────────────┴─────────────────┘\n"
      ]
     },
     "metadata": {},
     "output_type": "display_data"
    },
    {
     "data": {
      "text/html": [
       "<pre style=\"white-space:pre;overflow-x:auto;line-height:normal;font-family:Menlo,'DejaVu Sans Mono',consolas,'Courier New',monospace\"><span style=\"font-weight: bold\"> Total params: </span><span style=\"color: #00af00; text-decoration-color: #00af00\">261,313</span> (1020.75 KB)\n",
       "</pre>\n"
      ],
      "text/plain": [
       "\u001b[1m Total params: \u001b[0m\u001b[38;5;34m261,313\u001b[0m (1020.75 KB)\n"
      ]
     },
     "metadata": {},
     "output_type": "display_data"
    },
    {
     "data": {
      "text/html": [
       "<pre style=\"white-space:pre;overflow-x:auto;line-height:normal;font-family:Menlo,'DejaVu Sans Mono',consolas,'Courier New',monospace\"><span style=\"font-weight: bold\"> Trainable params: </span><span style=\"color: #00af00; text-decoration-color: #00af00\">261,313</span> (1020.75 KB)\n",
       "</pre>\n"
      ],
      "text/plain": [
       "\u001b[1m Trainable params: \u001b[0m\u001b[38;5;34m261,313\u001b[0m (1020.75 KB)\n"
      ]
     },
     "metadata": {},
     "output_type": "display_data"
    },
    {
     "data": {
      "text/html": [
       "<pre style=\"white-space:pre;overflow-x:auto;line-height:normal;font-family:Menlo,'DejaVu Sans Mono',consolas,'Courier New',monospace\"><span style=\"font-weight: bold\"> Non-trainable params: </span><span style=\"color: #00af00; text-decoration-color: #00af00\">0</span> (0.00 B)\n",
       "</pre>\n"
      ],
      "text/plain": [
       "\u001b[1m Non-trainable params: \u001b[0m\u001b[38;5;34m0\u001b[0m (0.00 B)\n"
      ]
     },
     "metadata": {},
     "output_type": "display_data"
    },
    {
     "name": "stdout",
     "output_type": "stream",
     "text": [
      "Epoch 1/200\n",
      "\u001b[1m113/113\u001b[0m \u001b[32m━━━━━━━━━━━━━━━━━━━━\u001b[0m\u001b[37m\u001b[0m \u001b[1m2s\u001b[0m 3ms/step - loss: 1830.4510 - mean_squared_error: 1830.4510 - val_loss: 82.2130 - val_mean_squared_error: 82.2130\n",
      "Epoch 2/200\n",
      "\u001b[1m113/113\u001b[0m \u001b[32m━━━━━━━━━━━━━━━━━━━━\u001b[0m\u001b[37m\u001b[0m \u001b[1m0s\u001b[0m 2ms/step - loss: 87.2413 - mean_squared_error: 87.2413 - val_loss: 42.7279 - val_mean_squared_error: 42.7279\n",
      "Epoch 3/200\n",
      "\u001b[1m113/113\u001b[0m \u001b[32m━━━━━━━━━━━━━━━━━━━━\u001b[0m\u001b[37m\u001b[0m \u001b[1m0s\u001b[0m 2ms/step - loss: 47.9914 - mean_squared_error: 47.9914 - val_loss: 25.9966 - val_mean_squared_error: 25.9966\n",
      "Epoch 4/200\n",
      "\u001b[1m113/113\u001b[0m \u001b[32m━━━━━━━━━━━━━━━━━━━━\u001b[0m\u001b[37m\u001b[0m \u001b[1m0s\u001b[0m 2ms/step - loss: 40.9525 - mean_squared_error: 40.9525 - val_loss: 22.3291 - val_mean_squared_error: 22.3291\n",
      "Epoch 5/200\n",
      "\u001b[1m113/113\u001b[0m \u001b[32m━━━━━━━━━━━━━━━━━━━━\u001b[0m\u001b[37m\u001b[0m \u001b[1m0s\u001b[0m 2ms/step - loss: 32.6054 - mean_squared_error: 32.6054 - val_loss: 19.6978 - val_mean_squared_error: 19.6978\n",
      "Epoch 6/200\n",
      "\u001b[1m113/113\u001b[0m \u001b[32m━━━━━━━━━━━━━━━━━━━━\u001b[0m\u001b[37m\u001b[0m \u001b[1m0s\u001b[0m 2ms/step - loss: 23.7963 - mean_squared_error: 23.7963 - val_loss: 18.9368 - val_mean_squared_error: 18.9368\n",
      "Epoch 7/200\n",
      "\u001b[1m113/113\u001b[0m \u001b[32m━━━━━━━━━━━━━━━━━━━━\u001b[0m\u001b[37m\u001b[0m \u001b[1m0s\u001b[0m 2ms/step - loss: 28.2475 - mean_squared_error: 28.2475 - val_loss: 18.5419 - val_mean_squared_error: 18.5419\n",
      "Epoch 8/200\n",
      "\u001b[1m113/113\u001b[0m \u001b[32m━━━━━━━━━━━━━━━━━━━━\u001b[0m\u001b[37m\u001b[0m \u001b[1m0s\u001b[0m 2ms/step - loss: 20.9469 - mean_squared_error: 20.9469 - val_loss: 18.1363 - val_mean_squared_error: 18.1363\n",
      "Epoch 9/200\n",
      "\u001b[1m113/113\u001b[0m \u001b[32m━━━━━━━━━━━━━━━━━━━━\u001b[0m\u001b[37m\u001b[0m \u001b[1m0s\u001b[0m 2ms/step - loss: 20.2875 - mean_squared_error: 20.2875 - val_loss: 17.9214 - val_mean_squared_error: 17.9214\n",
      "Epoch 10/200\n",
      "\u001b[1m113/113\u001b[0m \u001b[32m━━━━━━━━━━━━━━━━━━━━\u001b[0m\u001b[37m\u001b[0m \u001b[1m0s\u001b[0m 2ms/step - loss: 25.3488 - mean_squared_error: 25.3488 - val_loss: 17.6441 - val_mean_squared_error: 17.6441\n",
      "Epoch 11/200\n",
      "\u001b[1m113/113\u001b[0m \u001b[32m━━━━━━━━━━━━━━━━━━━━\u001b[0m\u001b[37m\u001b[0m \u001b[1m0s\u001b[0m 2ms/step - loss: 16.7824 - mean_squared_error: 16.7824 - val_loss: 17.3166 - val_mean_squared_error: 17.3166\n",
      "Epoch 12/200\n",
      "\u001b[1m113/113\u001b[0m \u001b[32m━━━━━━━━━━━━━━━━━━━━\u001b[0m\u001b[37m\u001b[0m \u001b[1m0s\u001b[0m 2ms/step - loss: 16.9577 - mean_squared_error: 16.9577 - val_loss: 16.9617 - val_mean_squared_error: 16.9617\n",
      "Epoch 13/200\n",
      "\u001b[1m113/113\u001b[0m \u001b[32m━━━━━━━━━━━━━━━━━━━━\u001b[0m\u001b[37m\u001b[0m \u001b[1m0s\u001b[0m 2ms/step - loss: 18.1620 - mean_squared_error: 18.1620 - val_loss: 16.6819 - val_mean_squared_error: 16.6819\n",
      "Epoch 14/200\n",
      "\u001b[1m113/113\u001b[0m \u001b[32m━━━━━━━━━━━━━━━━━━━━\u001b[0m\u001b[37m\u001b[0m \u001b[1m0s\u001b[0m 2ms/step - loss: 17.9756 - mean_squared_error: 17.9756 - val_loss: 16.1600 - val_mean_squared_error: 16.1600\n",
      "Epoch 15/200\n",
      "\u001b[1m113/113\u001b[0m \u001b[32m━━━━━━━━━━━━━━━━━━━━\u001b[0m\u001b[37m\u001b[0m \u001b[1m0s\u001b[0m 2ms/step - loss: 13.8583 - mean_squared_error: 13.8583 - val_loss: 16.4374 - val_mean_squared_error: 16.4374\n",
      "Epoch 16/200\n",
      "\u001b[1m113/113\u001b[0m \u001b[32m━━━━━━━━━━━━━━━━━━━━\u001b[0m\u001b[37m\u001b[0m \u001b[1m0s\u001b[0m 2ms/step - loss: 14.0698 - mean_squared_error: 14.0698 - val_loss: 16.1597 - val_mean_squared_error: 16.1597\n",
      "Epoch 17/200\n",
      "\u001b[1m113/113\u001b[0m \u001b[32m━━━━━━━━━━━━━━━━━━━━\u001b[0m\u001b[37m\u001b[0m \u001b[1m0s\u001b[0m 2ms/step - loss: 15.6348 - mean_squared_error: 15.6348 - val_loss: 16.1386 - val_mean_squared_error: 16.1386\n",
      "Epoch 18/200\n",
      "\u001b[1m113/113\u001b[0m \u001b[32m━━━━━━━━━━━━━━━━━━━━\u001b[0m\u001b[37m\u001b[0m \u001b[1m0s\u001b[0m 2ms/step - loss: 14.9871 - mean_squared_error: 14.9871 - val_loss: 16.3850 - val_mean_squared_error: 16.3850\n",
      "Epoch 19/200\n",
      "\u001b[1m113/113\u001b[0m \u001b[32m━━━━━━━━━━━━━━━━━━━━\u001b[0m\u001b[37m\u001b[0m \u001b[1m0s\u001b[0m 2ms/step - loss: 17.5833 - mean_squared_error: 17.5833 - val_loss: 16.1605 - val_mean_squared_error: 16.1605\n",
      "Epoch 20/200\n",
      "\u001b[1m113/113\u001b[0m \u001b[32m━━━━━━━━━━━━━━━━━━━━\u001b[0m\u001b[37m\u001b[0m \u001b[1m0s\u001b[0m 2ms/step - loss: 14.0165 - mean_squared_error: 14.0165 - val_loss: 16.3552 - val_mean_squared_error: 16.3552\n",
      "Epoch 21/200\n",
      "\u001b[1m113/113\u001b[0m \u001b[32m━━━━━━━━━━━━━━━━━━━━\u001b[0m\u001b[37m\u001b[0m \u001b[1m0s\u001b[0m 2ms/step - loss: 13.4998 - mean_squared_error: 13.4998 - val_loss: 16.2985 - val_mean_squared_error: 16.2985\n",
      "Epoch 22/200\n",
      "\u001b[1m113/113\u001b[0m \u001b[32m━━━━━━━━━━━━━━━━━━━━\u001b[0m\u001b[37m\u001b[0m \u001b[1m0s\u001b[0m 2ms/step - loss: 13.3226 - mean_squared_error: 13.3226 - val_loss: 15.9699 - val_mean_squared_error: 15.9699\n",
      "Epoch 23/200\n",
      "\u001b[1m113/113\u001b[0m \u001b[32m━━━━━━━━━━━━━━━━━━━━\u001b[0m\u001b[37m\u001b[0m \u001b[1m0s\u001b[0m 2ms/step - loss: 13.3540 - mean_squared_error: 13.3540 - val_loss: 16.4794 - val_mean_squared_error: 16.4794\n",
      "Epoch 24/200\n",
      "\u001b[1m113/113\u001b[0m \u001b[32m━━━━━━━━━━━━━━━━━━━━\u001b[0m\u001b[37m\u001b[0m \u001b[1m0s\u001b[0m 2ms/step - loss: 14.2523 - mean_squared_error: 14.2523 - val_loss: 16.4980 - val_mean_squared_error: 16.4980\n",
      "Epoch 25/200\n",
      "\u001b[1m113/113\u001b[0m \u001b[32m━━━━━━━━━━━━━━━━━━━━\u001b[0m\u001b[37m\u001b[0m \u001b[1m0s\u001b[0m 2ms/step - loss: 13.8614 - mean_squared_error: 13.8614 - val_loss: 16.2858 - val_mean_squared_error: 16.2858\n",
      "Epoch 26/200\n",
      "\u001b[1m113/113\u001b[0m \u001b[32m━━━━━━━━━━━━━━━━━━━━\u001b[0m\u001b[37m\u001b[0m \u001b[1m0s\u001b[0m 1ms/step - loss: 13.7236 - mean_squared_error: 13.7236 - val_loss: 16.2657 - val_mean_squared_error: 16.2657\n",
      "Epoch 27/200\n",
      "\u001b[1m113/113\u001b[0m \u001b[32m━━━━━━━━━━━━━━━━━━━━\u001b[0m\u001b[37m\u001b[0m \u001b[1m0s\u001b[0m 2ms/step - loss: 13.5488 - mean_squared_error: 13.5488 - val_loss: 16.3171 - val_mean_squared_error: 16.3171\n",
      "Epoch 28/200\n",
      "\u001b[1m113/113\u001b[0m \u001b[32m━━━━━━━━━━━━━━━━━━━━\u001b[0m\u001b[37m\u001b[0m \u001b[1m0s\u001b[0m 2ms/step - loss: 11.9799 - mean_squared_error: 11.9799 - val_loss: 16.5615 - val_mean_squared_error: 16.5615\n",
      "Epoch 29/200\n",
      "\u001b[1m113/113\u001b[0m \u001b[32m━━━━━━━━━━━━━━━━━━━━\u001b[0m\u001b[37m\u001b[0m \u001b[1m0s\u001b[0m 1ms/step - loss: 12.7148 - mean_squared_error: 12.7148 - val_loss: 16.5076 - val_mean_squared_error: 16.5076\n",
      "Epoch 30/200\n",
      "\u001b[1m113/113\u001b[0m \u001b[32m━━━━━━━━━━━━━━━━━━━━\u001b[0m\u001b[37m\u001b[0m \u001b[1m0s\u001b[0m 2ms/step - loss: 14.3516 - mean_squared_error: 14.3516 - val_loss: 16.3545 - val_mean_squared_error: 16.3545\n",
      "Epoch 31/200\n",
      "\u001b[1m113/113\u001b[0m \u001b[32m━━━━━━━━━━━━━━━━━━━━\u001b[0m\u001b[37m\u001b[0m \u001b[1m0s\u001b[0m 1ms/step - loss: 12.5980 - mean_squared_error: 12.5980 - val_loss: 16.7653 - val_mean_squared_error: 16.7653\n",
      "Epoch 32/200\n",
      "\u001b[1m113/113\u001b[0m \u001b[32m━━━━━━━━━━━━━━━━━━━━\u001b[0m\u001b[37m\u001b[0m \u001b[1m0s\u001b[0m 1ms/step - loss: 13.4371 - mean_squared_error: 13.4371 - val_loss: 16.3264 - val_mean_squared_error: 16.3264\n",
      "Epoch 33/200\n",
      "\u001b[1m113/113\u001b[0m \u001b[32m━━━━━━━━━━━━━━━━━━━━\u001b[0m\u001b[37m\u001b[0m \u001b[1m0s\u001b[0m 2ms/step - loss: 10.7491 - mean_squared_error: 10.7491 - val_loss: 16.7869 - val_mean_squared_error: 16.7869\n",
      "Epoch 34/200\n",
      "\u001b[1m113/113\u001b[0m \u001b[32m━━━━━━━━━━━━━━━━━━━━\u001b[0m\u001b[37m\u001b[0m \u001b[1m0s\u001b[0m 2ms/step - loss: 11.3257 - mean_squared_error: 11.3257 - val_loss: 16.6260 - val_mean_squared_error: 16.6260\n",
      "Epoch 35/200\n",
      "\u001b[1m113/113\u001b[0m \u001b[32m━━━━━━━━━━━━━━━━━━━━\u001b[0m\u001b[37m\u001b[0m \u001b[1m0s\u001b[0m 2ms/step - loss: 11.5951 - mean_squared_error: 11.5951 - val_loss: 16.6765 - val_mean_squared_error: 16.6765\n",
      "Epoch 36/200\n",
      "\u001b[1m113/113\u001b[0m \u001b[32m━━━━━━━━━━━━━━━━━━━━\u001b[0m\u001b[37m\u001b[0m \u001b[1m0s\u001b[0m 2ms/step - loss: 13.1264 - mean_squared_error: 13.1264 - val_loss: 16.8977 - val_mean_squared_error: 16.8977\n",
      "Epoch 37/200\n",
      "\u001b[1m113/113\u001b[0m \u001b[32m━━━━━━━━━━━━━━━━━━━━\u001b[0m\u001b[37m\u001b[0m \u001b[1m0s\u001b[0m 2ms/step - loss: 10.4781 - mean_squared_error: 10.4781 - val_loss: 17.0096 - val_mean_squared_error: 17.0096\n",
      "Epoch 38/200\n",
      "\u001b[1m113/113\u001b[0m \u001b[32m━━━━━━━━━━━━━━━━━━━━\u001b[0m\u001b[37m\u001b[0m \u001b[1m0s\u001b[0m 2ms/step - loss: 10.7229 - mean_squared_error: 10.7229 - val_loss: 17.7194 - val_mean_squared_error: 17.7194\n",
      "Epoch 39/200\n",
      "\u001b[1m113/113\u001b[0m \u001b[32m━━━━━━━━━━━━━━━━━━━━\u001b[0m\u001b[37m\u001b[0m \u001b[1m0s\u001b[0m 2ms/step - loss: 10.1401 - mean_squared_error: 10.1401 - val_loss: 17.2547 - val_mean_squared_error: 17.2547\n",
      "Epoch 40/200\n",
      "\u001b[1m113/113\u001b[0m \u001b[32m━━━━━━━━━━━━━━━━━━━━\u001b[0m\u001b[37m\u001b[0m \u001b[1m0s\u001b[0m 2ms/step - loss: 10.7437 - mean_squared_error: 10.7437 - val_loss: 17.4480 - val_mean_squared_error: 17.4480\n",
      "Epoch 41/200\n",
      "\u001b[1m113/113\u001b[0m \u001b[32m━━━━━━━━━━━━━━━━━━━━\u001b[0m\u001b[37m\u001b[0m \u001b[1m0s\u001b[0m 2ms/step - loss: 10.1193 - mean_squared_error: 10.1193 - val_loss: 17.2961 - val_mean_squared_error: 17.2961\n",
      "Epoch 42/200\n",
      "\u001b[1m113/113\u001b[0m \u001b[32m━━━━━━━━━━━━━━━━━━━━\u001b[0m\u001b[37m\u001b[0m \u001b[1m0s\u001b[0m 2ms/step - loss: 10.2348 - mean_squared_error: 10.2348 - val_loss: 17.3144 - val_mean_squared_error: 17.3144\n",
      "\u001b[1m32/32\u001b[0m \u001b[32m━━━━━━━━━━━━━━━━━━━━\u001b[0m\u001b[37m\u001b[0m \u001b[1m0s\u001b[0m 2ms/step\n",
      "R-squared: 0.7618\n",
      "MSE: 21.5347\n",
      "RMSE: 4.6405\n"
     ]
    },
    {
     "data": {
      "image/png": "[encoded data removed]",
      "text/plain": [
       "<Figure size 640x480 with 1 Axes>"
      ]
     },
     "metadata": {},
     "output_type": "display_data"
    }
   ],
   "source": [
    "from sklearn.preprocessing import MinMaxScaler\n",
    "from keras.models import Sequential\n",
    "from keras.layers import Activation, Dense, Dropout\n",
    "from keras.callbacks import EarlyStopping\n",
    "from sklearn.compose import ColumnTransformer\n",
    "from sklearn.preprocessing import OneHotEncoder\n",
    "from sklearn.model_selection import train_test_split\n",
    "from sklearn.metrics import mean_squared_error, r2_score\n",
    "\n",
    "df = pd.read_csv('Streaming1.csv')\n",
    "numerical_features = df.select_dtypes(include=['number']).columns.tolist()\n",
    "categorical_features = df.select_dtypes(include=['object']).columns.tolist()\n",
    "\n",
    "numerical_features.remove('Monthly_Spend')\n",
    "\n",
    "X = df[numerical_features + categorical_features]\n",
    "y = df[\"Monthly_Spend\"]\n",
    "\n",
    "x_train, x_test, y_train, y_test = train_test_split(X, y, test_size=0.2, random_state=42)\n",
    "\n",
    "# Create a column transformer for preprocessing\n",
    "preprocessor = ColumnTransformer(\n",
    "    transformers=[\n",
    "        ('num', MinMaxScaler(), numerical_features),\n",
    "        ('cat', OneHotEncoder(handle_unknown='ignore'), categorical_features)\n",
    "    ])\n",
    "\n",
    "x_train_scaled = preprocessor.fit_transform(x_train)\n",
    "x_test_scaled = preprocessor.transform(x_test)\n",
    "\n",
    "# Determine the input dimension\n",
    "input_dim = x_train_scaled.shape[1]\n",
    "\n",
    "# Neural Network Model\n",
    "model = Sequential()\n",
    "model.add(Dense(units=64, input_dim=input_dim, activation=\"relu\"))\n",
    "model.add(Dropout(0.2))\n",
    "model.add(Dense(units=64, activation=\"relu\"))\n",
    "model.add(Dense(units=1, activation=\"linear\"))\n",
    "model.summary()\n",
    "\n",
    "# Compile the model\n",
    "model.compile(optimizer=\"adam\", loss='mean_squared_error', metrics=['mean_squared_error'])\n",
    "\n",
    "# Define early stopping\n",
    "early_stopping = EarlyStopping(monitor='val_loss', patience=20)\n",
    "\n",
    "# Train the model\n",
    "history = model.fit(x_train_scaled, y_train, batch_size=None, epochs=200, verbose=\"auto\", validation_split=0.1, callbacks=[early_stopping])\n",
    "\n",
    "# Make predictions\n",
    "y_pred = model.predict(x_test_scaled)\n",
    "y_pred = y_pred.flatten()\n",
    "\n",
    "# Evaluate the model\n",
    "r2 = r2_score(y_test, y_pred)\n",
    "mse = mean_squared_error(y_test, y_pred)\n",
    "rmse = np.sqrt(mse)\n",
    "\n",
    "# Display results\n",
    "print(f\"R-squared: {r2:.4f}\")\n",
    "print(f\"MSE: {mse:.4f}\")\n",
    "print(f\"RMSE: {rmse:.4f}\")\n",
    "\n",
    "# Plotting the loss\n",
    "history_df = pd.DataFrame(history.history)\n",
    "plt.plot(history_df[\"loss\"], label=\"Training\")\n",
    "plt.plot(history_df[\"val_loss\"], label=\"Validation\")\n",
    "plt.legend()\n",
    "plt.show()\n"
   ]
  },
  {
   "cell_type": "code",
   "execution_count": 95,
   "id": "0af95914-695c-4c0a-a226-b2775bc6eaa0",
   "metadata": {},
   "outputs": [
    {
     "name": "stderr",
     "output_type": "stream",
     "text": [
      "C:\\Program Files\\Python312\\Lib\\site-packages\\keras\\src\\layers\\core\\dense.py:86: UserWarning: Do not pass an `input_shape`/`input_dim` argument to a layer. When using Sequential models, prefer using an `Input(shape)` object as the first layer in the model instead.\n",
      "  super().__init__(activity_regularizer=activity_regularizer, **kwargs)\n"
     ]
    },
    {
     "data": {
      "text/html": [
       "<pre style=\"white-space:pre;overflow-x:auto;line-height:normal;font-family:Menlo,'DejaVu Sans Mono',consolas,'Courier New',monospace\"><span style=\"font-weight: bold\">Model: \"sequential_6\"</span>\n",
       "</pre>\n"
      ],
      "text/plain": [
       "\u001b[1mModel: \"sequential_6\"\u001b[0m\n"
      ]
     },
     "metadata": {},
     "output_type": "display_data"
    },
    {
     "data": {
      "text/html": [
       "<pre style=\"white-space:pre;overflow-x:auto;line-height:normal;font-family:Menlo,'DejaVu Sans Mono',consolas,'Courier New',monospace\">┏━━━━━━━━━━━━━━━━━━━━━━━━━━━━━━━━━━━━━━┳━━━━━━━━━━━━━━━━━━━━━━━━━━━━━┳━━━━━━━━━━━━━━━━━┓\n",
       "┃<span style=\"font-weight: bold\"> Layer (type)                         </span>┃<span style=\"font-weight: bold\"> Output Shape                </span>┃<span style=\"font-weight: bold\">         Param # </span>┃\n",
       "┡━━━━━━━━━━━━━━━━━━━━━━━━━━━━━━━━━━━━━━╇━━━━━━━━━━━━━━━━━━━━━━━━━━━━━╇━━━━━━━━━━━━━━━━━┩\n",
       "│ dense_13 (<span style=\"color: #0087ff; text-decoration-color: #0087ff\">Dense</span>)                     │ (<span style=\"color: #00d7ff; text-decoration-color: #00d7ff\">None</span>, <span style=\"color: #00af00; text-decoration-color: #00af00\">64</span>)                  │         <span style=\"color: #00af00; text-decoration-color: #00af00\">257,088</span> │\n",
       "├──────────────────────────────────────┼─────────────────────────────┼─────────────────┤\n",
       "│ dropout_3 (<span style=\"color: #0087ff; text-decoration-color: #0087ff\">Dropout</span>)                  │ (<span style=\"color: #00d7ff; text-decoration-color: #00d7ff\">None</span>, <span style=\"color: #00af00; text-decoration-color: #00af00\">64</span>)                  │               <span style=\"color: #00af00; text-decoration-color: #00af00\">0</span> │\n",
       "├──────────────────────────────────────┼─────────────────────────────┼─────────────────┤\n",
       "│ dense_14 (<span style=\"color: #0087ff; text-decoration-color: #0087ff\">Dense</span>)                     │ (<span style=\"color: #00d7ff; text-decoration-color: #00d7ff\">None</span>, <span style=\"color: #00af00; text-decoration-color: #00af00\">64</span>)                  │           <span style=\"color: #00af00; text-decoration-color: #00af00\">4,160</span> │\n",
       "├──────────────────────────────────────┼─────────────────────────────┼─────────────────┤\n",
       "│ dense_15 (<span style=\"color: #0087ff; text-decoration-color: #0087ff\">Dense</span>)                     │ (<span style=\"color: #00d7ff; text-decoration-color: #00d7ff\">None</span>, <span style=\"color: #00af00; text-decoration-color: #00af00\">64</span>)                  │           <span style=\"color: #00af00; text-decoration-color: #00af00\">4,160</span> │\n",
       "├──────────────────────────────────────┼─────────────────────────────┼─────────────────┤\n",
       "│ dense_16 (<span style=\"color: #0087ff; text-decoration-color: #0087ff\">Dense</span>)                     │ (<span style=\"color: #00d7ff; text-decoration-color: #00d7ff\">None</span>, <span style=\"color: #00af00; text-decoration-color: #00af00\">64</span>)                  │           <span style=\"color: #00af00; text-decoration-color: #00af00\">4,160</span> │\n",
       "├──────────────────────────────────────┼─────────────────────────────┼─────────────────┤\n",
       "│ dense_17 (<span style=\"color: #0087ff; text-decoration-color: #0087ff\">Dense</span>)                     │ (<span style=\"color: #00d7ff; text-decoration-color: #00d7ff\">None</span>, <span style=\"color: #00af00; text-decoration-color: #00af00\">1</span>)                   │              <span style=\"color: #00af00; text-decoration-color: #00af00\">65</span> │\n",
       "└──────────────────────────────────────┴─────────────────────────────┴─────────────────┘\n",
       "</pre>\n"
      ],
      "text/plain": [
       "┏━━━━━━━━━━━━━━━━━━━━━━━━━━━━━━━━━━━━━━┳━━━━━━━━━━━━━━━━━━━━━━━━━━━━━┳━━━━━━━━━━━━━━━━━┓\n",
       "┃\u001b[1m \u001b[0m\u001b[1mLayer (type)                        \u001b[0m\u001b[1m \u001b[0m┃\u001b[1m \u001b[0m\u001b[1mOutput Shape               \u001b[0m\u001b[1m \u001b[0m┃\u001b[1m \u001b[0m\u001b[1m        Param #\u001b[0m\u001b[1m \u001b[0m┃\n",
       "┡━━━━━━━━━━━━━━━━━━━━━━━━━━━━━━━━━━━━━━╇━━━━━━━━━━━━━━━━━━━━━━━━━━━━━╇━━━━━━━━━━━━━━━━━┩\n",
       "│ dense_13 (\u001b[38;5;33mDense\u001b[0m)                     │ (\u001b[38;5;45mNone\u001b[0m, \u001b[38;5;34m64\u001b[0m)                  │         \u001b[38;5;34m257,088\u001b[0m │\n",
       "├──────────────────────────────────────┼─────────────────────────────┼─────────────────┤\n",
       "│ dropout_3 (\u001b[38;5;33mDropout\u001b[0m)                  │ (\u001b[38;5;45mNone\u001b[0m, \u001b[38;5;34m64\u001b[0m)                  │               \u001b[38;5;34m0\u001b[0m │\n",
       "├──────────────────────────────────────┼─────────────────────────────┼─────────────────┤\n",
       "│ dense_14 (\u001b[38;5;33mDense\u001b[0m)                     │ (\u001b[38;5;45mNone\u001b[0m, \u001b[38;5;34m64\u001b[0m)                  │           \u001b[38;5;34m4,160\u001b[0m │\n",
       "├──────────────────────────────────────┼─────────────────────────────┼─────────────────┤\n",
       "│ dense_15 (\u001b[38;5;33mDense\u001b[0m)                     │ (\u001b[38;5;45mNone\u001b[0m, \u001b[38;5;34m64\u001b[0m)                  │           \u001b[38;5;34m4,160\u001b[0m │\n",
       "├──────────────────────────────────────┼─────────────────────────────┼─────────────────┤\n",
       "│ dense_16 (\u001b[38;5;33mDense\u001b[0m)                     │ (\u001b[38;5;45mNone\u001b[0m, \u001b[38;5;34m64\u001b[0m)                  │           \u001b[38;5;34m4,160\u001b[0m │\n",
       "├──────────────────────────────────────┼─────────────────────────────┼─────────────────┤\n",
       "│ dense_17 (\u001b[38;5;33mDense\u001b[0m)                     │ (\u001b[38;5;45mNone\u001b[0m, \u001b[38;5;34m1\u001b[0m)                   │              \u001b[38;5;34m65\u001b[0m │\n",
       "└──────────────────────────────────────┴─────────────────────────────┴─────────────────┘\n"
      ]
     },
     "metadata": {},
     "output_type": "display_data"
    },
    {
     "data": {
      "text/html": [
       "<pre style=\"white-space:pre;overflow-x:auto;line-height:normal;font-family:Menlo,'DejaVu Sans Mono',consolas,'Courier New',monospace\"><span style=\"font-weight: bold\"> Total params: </span><span style=\"color: #00af00; text-decoration-color: #00af00\">269,633</span> (1.03 MB)\n",
       "</pre>\n"
      ],
      "text/plain": [
       "\u001b[1m Total params: \u001b[0m\u001b[38;5;34m269,633\u001b[0m (1.03 MB)\n"
      ]
     },
     "metadata": {},
     "output_type": "display_data"
    },
    {
     "data": {
      "text/html": [
       "<pre style=\"white-space:pre;overflow-x:auto;line-height:normal;font-family:Menlo,'DejaVu Sans Mono',consolas,'Courier New',monospace\"><span style=\"font-weight: bold\"> Trainable params: </span><span style=\"color: #00af00; text-decoration-color: #00af00\">269,633</span> (1.03 MB)\n",
       "</pre>\n"
      ],
      "text/plain": [
       "\u001b[1m Trainable params: \u001b[0m\u001b[38;5;34m269,633\u001b[0m (1.03 MB)\n"
      ]
     },
     "metadata": {},
     "output_type": "display_data"
    },
    {
     "data": {
      "text/html": [
       "<pre style=\"white-space:pre;overflow-x:auto;line-height:normal;font-family:Menlo,'DejaVu Sans Mono',consolas,'Courier New',monospace\"><span style=\"font-weight: bold\"> Non-trainable params: </span><span style=\"color: #00af00; text-decoration-color: #00af00\">0</span> (0.00 B)\n",
       "</pre>\n"
      ],
      "text/plain": [
       "\u001b[1m Non-trainable params: \u001b[0m\u001b[38;5;34m0\u001b[0m (0.00 B)\n"
      ]
     },
     "metadata": {},
     "output_type": "display_data"
    },
    {
     "name": "stdout",
     "output_type": "stream",
     "text": [
      "Epoch 1/200\n",
      "\u001b[1m113/113\u001b[0m \u001b[32m━━━━━━━━━━━━━━━━━━━━\u001b[0m\u001b[37m\u001b[0m \u001b[1m0s\u001b[0m 2ms/step - loss: 9.7399 - mean_squared_error: 9.7399 - val_loss: 17.2566 - val_mean_squared_error: 17.2566\n",
      "Epoch 2/200\n",
      "\u001b[1m113/113\u001b[0m \u001b[32m━━━━━━━━━━━━━━━━━━━━\u001b[0m\u001b[37m\u001b[0m \u001b[1m0s\u001b[0m 2ms/step - loss: 10.7635 - mean_squared_error: 10.7635 - val_loss: 17.5855 - val_mean_squared_error: 17.5855\n",
      "Epoch 3/200\n",
      "\u001b[1m113/113\u001b[0m \u001b[32m━━━━━━━━━━━━━━━━━━━━\u001b[0m\u001b[37m\u001b[0m \u001b[1m0s\u001b[0m 3ms/step - loss: 9.7393 - mean_squared_error: 9.7393 - val_loss: 17.5613 - val_mean_squared_error: 17.5613\n",
      "Epoch 4/200\n",
      "\u001b[1m113/113\u001b[0m \u001b[32m━━━━━━━━━━━━━━━━━━━━\u001b[0m\u001b[37m\u001b[0m \u001b[1m0s\u001b[0m 2ms/step - loss: 11.2171 - mean_squared_error: 11.2171 - val_loss: 17.0260 - val_mean_squared_error: 17.0260\n",
      "Epoch 5/200\n",
      "\u001b[1m113/113\u001b[0m \u001b[32m━━━━━━━━━━━━━━━━━━━━\u001b[0m\u001b[37m\u001b[0m \u001b[1m1s\u001b[0m 3ms/step - loss: 9.3973 - mean_squared_error: 9.3973 - val_loss: 17.3600 - val_mean_squared_error: 17.3600\n",
      "Epoch 6/200\n",
      "\u001b[1m113/113\u001b[0m \u001b[32m━━━━━━━━━━━━━━━━━━━━\u001b[0m\u001b[37m\u001b[0m \u001b[1m0s\u001b[0m 3ms/step - loss: 9.2901 - mean_squared_error: 9.2901 - val_loss: 17.6039 - val_mean_squared_error: 17.6039\n",
      "Epoch 7/200\n",
      "\u001b[1m113/113\u001b[0m \u001b[32m━━━━━━━━━━━━━━━━━━━━\u001b[0m\u001b[37m\u001b[0m \u001b[1m0s\u001b[0m 2ms/step - loss: 13.7140 - mean_squared_error: 13.7140 - val_loss: 17.9305 - val_mean_squared_error: 17.9305\n",
      "Epoch 8/200\n",
      "\u001b[1m113/113\u001b[0m \u001b[32m━━━━━━━━━━━━━━━━━━━━\u001b[0m\u001b[37m\u001b[0m \u001b[1m0s\u001b[0m 2ms/step - loss: 10.0073 - mean_squared_error: 10.0073 - val_loss: 18.7270 - val_mean_squared_error: 18.7270\n",
      "Epoch 9/200\n",
      "\u001b[1m113/113\u001b[0m \u001b[32m━━━━━━━━━━━━━━━━━━━━\u001b[0m\u001b[37m\u001b[0m \u001b[1m0s\u001b[0m 2ms/step - loss: 8.5342 - mean_squared_error: 8.5342 - val_loss: 17.7876 - val_mean_squared_error: 17.7876\n",
      "Epoch 10/200\n",
      "\u001b[1m113/113\u001b[0m \u001b[32m━━━━━━━━━━━━━━━━━━━━\u001b[0m\u001b[37m\u001b[0m \u001b[1m0s\u001b[0m 2ms/step - loss: 8.0613 - mean_squared_error: 8.0613 - val_loss: 17.9126 - val_mean_squared_error: 17.9126\n",
      "Epoch 11/200\n",
      "\u001b[1m113/113\u001b[0m \u001b[32m━━━━━━━━━━━━━━━━━━━━\u001b[0m\u001b[37m\u001b[0m \u001b[1m0s\u001b[0m 2ms/step - loss: 8.7752 - mean_squared_error: 8.7752 - val_loss: 18.3997 - val_mean_squared_error: 18.3997\n",
      "Epoch 12/200\n",
      "\u001b[1m113/113\u001b[0m \u001b[32m━━━━━━━━━━━━━━━━━━━━\u001b[0m\u001b[37m\u001b[0m \u001b[1m0s\u001b[0m 2ms/step - loss: 9.1980 - mean_squared_error: 9.1980 - val_loss: 18.3622 - val_mean_squared_error: 18.3622\n",
      "Epoch 13/200\n",
      "\u001b[1m113/113\u001b[0m \u001b[32m━━━━━━━━━━━━━━━━━━━━\u001b[0m\u001b[37m\u001b[0m \u001b[1m0s\u001b[0m 2ms/step - loss: 7.8582 - mean_squared_error: 7.8582 - val_loss: 18.4454 - val_mean_squared_error: 18.4454\n",
      "Epoch 14/200\n",
      "\u001b[1m113/113\u001b[0m \u001b[32m━━━━━━━━━━━━━━━━━━━━\u001b[0m\u001b[37m\u001b[0m \u001b[1m0s\u001b[0m 2ms/step - loss: 7.4895 - mean_squared_error: 7.4895 - val_loss: 19.2379 - val_mean_squared_error: 19.2379\n",
      "Epoch 15/200\n",
      "\u001b[1m113/113\u001b[0m \u001b[32m━━━━━━━━━━━━━━━━━━━━\u001b[0m\u001b[37m\u001b[0m \u001b[1m0s\u001b[0m 2ms/step - loss: 7.8048 - mean_squared_error: 7.8048 - val_loss: 18.0727 - val_mean_squared_error: 18.0727\n",
      "Epoch 16/200\n",
      "\u001b[1m113/113\u001b[0m \u001b[32m━━━━━━━━━━━━━━━━━━━━\u001b[0m\u001b[37m\u001b[0m \u001b[1m0s\u001b[0m 2ms/step - loss: 6.9826 - mean_squared_error: 6.9826 - val_loss: 19.2250 - val_mean_squared_error: 19.2250\n",
      "Epoch 17/200\n",
      "\u001b[1m113/113\u001b[0m \u001b[32m━━━━━━━━━━━━━━━━━━━━\u001b[0m\u001b[37m\u001b[0m \u001b[1m0s\u001b[0m 2ms/step - loss: 7.6047 - mean_squared_error: 7.6047 - val_loss: 18.9711 - val_mean_squared_error: 18.9711\n",
      "Epoch 18/200\n",
      "\u001b[1m113/113\u001b[0m \u001b[32m━━━━━━━━━━━━━━━━━━━━\u001b[0m\u001b[37m\u001b[0m \u001b[1m0s\u001b[0m 2ms/step - loss: 7.1309 - mean_squared_error: 7.1309 - val_loss: 19.2484 - val_mean_squared_error: 19.2484\n",
      "Epoch 19/200\n",
      "\u001b[1m113/113\u001b[0m \u001b[32m━━━━━━━━━━━━━━━━━━━━\u001b[0m\u001b[37m\u001b[0m \u001b[1m0s\u001b[0m 2ms/step - loss: 6.6911 - mean_squared_error: 6.6911 - val_loss: 18.8569 - val_mean_squared_error: 18.8569\n",
      "Epoch 20/200\n",
      "\u001b[1m113/113\u001b[0m \u001b[32m━━━━━━━━━━━━━━━━━━━━\u001b[0m\u001b[37m\u001b[0m \u001b[1m0s\u001b[0m 2ms/step - loss: 6.9562 - mean_squared_error: 6.9562 - val_loss: 19.2114 - val_mean_squared_error: 19.2114\n",
      "Epoch 21/200\n",
      "\u001b[1m113/113\u001b[0m \u001b[32m━━━━━━━━━━━━━━━━━━━━\u001b[0m\u001b[37m\u001b[0m \u001b[1m0s\u001b[0m 2ms/step - loss: 5.7652 - mean_squared_error: 5.7652 - val_loss: 19.4359 - val_mean_squared_error: 19.4359\n",
      "Epoch 22/200\n",
      "\u001b[1m113/113\u001b[0m \u001b[32m━━━━━━━━━━━━━━━━━━━━\u001b[0m\u001b[37m\u001b[0m \u001b[1m0s\u001b[0m 2ms/step - loss: 6.2018 - mean_squared_error: 6.2018 - val_loss: 19.0942 - val_mean_squared_error: 19.0942\n",
      "Epoch 23/200\n",
      "\u001b[1m113/113\u001b[0m \u001b[32m━━━━━━━━━━━━━━━━━━━━\u001b[0m\u001b[37m\u001b[0m \u001b[1m0s\u001b[0m 2ms/step - loss: 5.5428 - mean_squared_error: 5.5428 - val_loss: 19.0595 - val_mean_squared_error: 19.0595\n",
      "Epoch 24/200\n",
      "\u001b[1m113/113\u001b[0m \u001b[32m━━━━━━━━━━━━━━━━━━━━\u001b[0m\u001b[37m\u001b[0m \u001b[1m0s\u001b[0m 2ms/step - loss: 5.4291 - mean_squared_error: 5.4291 - val_loss: 20.2181 - val_mean_squared_error: 20.2181\n",
      "\u001b[1m32/32\u001b[0m \u001b[32m━━━━━━━━━━━━━━━━━━━━\u001b[0m\u001b[37m\u001b[0m \u001b[1m0s\u001b[0m 936us/step\n",
      "R-squared: 0.7335\n",
      "MSE: 24.0916\n",
      "RMSE: 4.9083\n"
     ]
    },
    {
     "data": {
      "image/png": "[encoded data removed]",
      "text/plain": [
       "<Figure size 640x480 with 1 Axes>"
      ]
     },
     "metadata": {},
     "output_type": "display_data"
    }
   ],
   "source": [
    "df = pd.read_csv('Streaming1.csv')\n",
    "numerical_features = df.select_dtypes(include=['number']).columns.tolist()\n",
    "categorical_features = df.select_dtypes(include=['object']).columns.tolist()\n",
    "\n",
    "numerical_features.remove('Monthly_Spend')\n",
    "\n",
    "X = df[numerical_features + categorical_features]\n",
    "y = df[\"Monthly_Spend\"]\n",
    "\n",
    "x_train, x_test, y_train, y_test = train_test_split(X, y, test_size=0.2, random_state=42)\n",
    "\n",
    "# Create a column transformer for preprocessing\n",
    "preprocessor = ColumnTransformer(\n",
    "    transformers=[\n",
    "        ('num', MinMaxScaler(), numerical_features),\n",
    "        ('cat', OneHotEncoder(handle_unknown='ignore'), categorical_features)\n",
    "    ])\n",
    "\n",
    "x_train_scaled = preprocessor.fit_transform(x_train)\n",
    "x_test_scaled = preprocessor.transform(x_test)\n",
    "\n",
    "# Determine the input dimension\n",
    "input_dim = x_train_scaled.shape[1]\n",
    "\n",
    "# Neural Network Model\n",
    "model2 = Sequential()\n",
    "model2.add(Dense(units=64, input_dim=input_dim, activation=\"relu\"))\n",
    "model2.add(Dropout(0.1))\n",
    "model2.add(Dense(units = 64, activation = \"relu\"))\n",
    "model2.add(Dense(units = 64, activation = \"relu\"))\n",
    "model2.add(Dense(units = 64, activation = \"relu\"))\n",
    "model2.add(Dense(units = 1, activation = \"linear\"))\n",
    "model2.summary()\n",
    "\n",
    "# Compile the model\n",
    "from keras.optimizers import Adam\n",
    "adam_optimizer = Adam(learning_rate = 0.01)\n",
    "model2.compile(adam_optimizer, loss='mean_squared_error', metrics=['mean_squared_error'])\n",
    "\n",
    "# Define early stopping\n",
    "early_stopping = EarlyStopping(monitor='val_loss', patience=20)\n",
    "\n",
    "# Train the model\n",
    "history = model.fit(x_train_scaled, y_train, batch_size=None, epochs=200, verbose=\"auto\", validation_split=0.1, callbacks=[early_stopping])\n",
    "\n",
    "# Make predictions\n",
    "y_pred = model.predict(x_test_scaled)\n",
    "y_pred = y_pred.flatten()\n",
    "\n",
    "# Evaluate the model\n",
    "r2 = r2_score(y_test, y_pred)\n",
    "mse = mean_squared_error(y_test, y_pred)\n",
    "rmse = np.sqrt(mse)\n",
    "\n",
    "# Display results\n",
    "print(f\"R-squared: {r2:.4f}\")\n",
    "print(f\"MSE: {mse:.4f}\")\n",
    "print(f\"RMSE: {rmse:.4f}\")\n",
    "\n",
    "# Plotting the loss\n",
    "history_df = pd.DataFrame(history.history)\n",
    "plt.plot(history_df[\"loss\"], label=\"Training\")\n",
    "plt.plot(history_df[\"val_loss\"], label=\"Validation\")\n",
    "plt.legend()\n",
    "plt.show()"
   ]
  },
  {
   "cell_type": "markdown",
   "id": "1ae97ff2-40ce-42c3-9b3f-17b0d81edc8c",
   "metadata": {},
   "source": [
    "### (f) Train, evaluate and compare classification models to predict whether a customer will churn (1) or not churn (0) based on available features.   \n",
    "Which model performs best, and why? Use\n",
    "appropriate evaluation metrics (e.g., accuracy, precision, recall, F1-score, AUC-ROC) to\n",
    "justify your findings."
   ]
  },
  {
   "cell_type": "code",
   "execution_count": 13,
   "id": "ba7b5598-4750-4c71-9166-bb2a681ad388",
   "metadata": {},
   "outputs": [
    {
     "name": "stdout",
     "output_type": "stream",
     "text": [
      "K-Nearest Neighbors:\n",
      "Accuracy: 0.7770\n",
      "Precision: 0.7710\n",
      "Recall: 0.7253\n",
      "F1 Score: 0.7475\n",
      "ROC-AUC: 0.7727\n",
      "------------------------------\n",
      "Decision Tree:\n",
      "Accuracy: 0.9900\n",
      "Precision: 0.9955\n",
      "Recall: 0.9824\n",
      "F1 Score: 0.9889\n",
      "ROC-AUC: 0.9894\n",
      "------------------------------\n",
      "Random Forest:\n",
      "Accuracy: 0.9890\n",
      "Precision: 0.9805\n",
      "Recall: 0.9956\n",
      "F1 Score: 0.9880\n",
      "ROC-AUC: 0.9895\n",
      "------------------------------\n",
      "Artificial Neural Network:\n",
      "Accuracy: 0.7840\n",
      "Precision: 0.7537\n",
      "Recall: 0.7802\n",
      "F1 Score: 0.7667\n",
      "ROC-AUC: 0.7837\n",
      "------------------------------\n"
     ]
    }
   ],
   "source": [
    "from sklearn.model_selection import train_test_split\n",
    "from sklearn.compose import ColumnTransformer\n",
    "from sklearn.preprocessing import MinMaxScaler, OneHotEncoder\n",
    "from sklearn.neighbors import KNeighborsClassifier\n",
    "from sklearn.tree import DecisionTreeClassifier\n",
    "from sklearn.ensemble import RandomForestClassifier\n",
    "from sklearn.neural_network import MLPClassifier\n",
    "from sklearn.metrics import accuracy_score, precision_score, recall_score, f1_score, roc_auc_score\n",
    "\n",
    "# Load the dataset\n",
    "df = pd.read_csv('Streaming1.csv')\n",
    "\n",
    "# Define numerical and categorical features\n",
    "numerical_features = df.select_dtypes(include=['number']).columns.tolist()\n",
    "categorical_features = df.select_dtypes(include=['object']).columns.tolist()\n",
    "\n",
    "# Ensure 'Churned' is not in the features list\n",
    "numerical_features.remove('Churned')\n",
    "\n",
    "# Define features\n",
    "X = df[numerical_features + categorical_features]\n",
    "y = df[\"Churned\"]\n",
    "\n",
    "def categorize_churn(churn_value):\n",
    "  if churn_value == 0:\n",
    "    return \"Not Churn\"\n",
    "  elif churn_value == 1:\n",
    "    return \"Churn\"\n",
    "  else:\n",
    "    return \"Invalid Churn Value\"\n",
    "\n",
    "# Split the data\n",
    "x_train, x_test, y_train, y_test = train_test_split(X, y, test_size=0.2, random_state=42)\n",
    "\n",
    "# Create a column transformer for preprocessing\n",
    "preprocessor = ColumnTransformer(\n",
    "    transformers=[\n",
    "        ('num', MinMaxScaler(), numerical_features),\n",
    "        ('cat', OneHotEncoder(handle_unknown='ignore'), categorical_features)\n",
    "    ])\n",
    "\n",
    "# Fit and transform the data\n",
    "x_train_scaled = preprocessor.fit_transform(x_train)\n",
    "x_test_scaled = preprocessor.transform(x_test)\n",
    "\n",
    "# Initialize models\n",
    "knn = KNeighborsClassifier(n_neighbors=5)\n",
    "decision_tree = DecisionTreeClassifier(random_state=42)\n",
    "random_forest = RandomForestClassifier(random_state=42)\n",
    "ann = MLPClassifier(random_state=42, max_iter=300, early_stopping=True)\n",
    "\n",
    "# Train models\n",
    "knn.fit(x_train_scaled, y_train)\n",
    "decision_tree.fit(x_train_scaled, y_train)\n",
    "random_forest.fit(x_train_scaled, y_train)\n",
    "ann.fit(x_train_scaled, y_train)\n",
    "\n",
    "# Evaluate models\n",
    "models = {\n",
    "    \"K-Nearest Neighbors\": knn,\n",
    "    \"Decision Tree\": decision_tree,\n",
    "    \"Random Forest\": random_forest,\n",
    "    \"Artificial Neural Network\": ann\n",
    "}\n",
    "\n",
    "for name, model in models.items():\n",
    "    y_pred = model.predict(x_test_scaled)\n",
    "    accuracy = accuracy_score(y_test, y_pred)\n",
    "    precision = precision_score(y_test, y_pred)\n",
    "    recall = recall_score(y_test, y_pred)\n",
    "    f1 = f1_score(y_test, y_pred)\n",
    "    roc_auc = roc_auc_score(y_test, y_pred)\n",
    "\n",
    "    print(f\"{name}:\")\n",
    "    print(f\"Accuracy: {accuracy:.4f}\")\n",
    "    print(f\"Precision: {precision:.4f}\")\n",
    "    print(f\"Recall: {recall:.4f}\")\n",
    "    print(f\"F1 Score: {f1:.4f}\")\n",
    "    print(f\"ROC-AUC: {roc_auc:.4f}\")\n",
    "    print(\"-\" * 30)"
   ]
  },
  {
   "cell_type": "markdown",
   "id": "2c0b74ba-29b7-45db-a775-ef399e18c45b",
   "metadata": {},
   "source": [
    "### (g) Apply the k-Means clustering algorithm to identify different clusters in the streaming service dataset.  \n",
    "\n",
    "What is the optimal number of clusters (k) and why? Which features produce\n",
    "the most meaningful clusters? Support your answer with visualizations and evaluation metrics."
   ]
  },
  {
   "cell_type": "code",
   "execution_count": 17,
   "id": "1712d6ef-d5e5-4dce-92d3-3df0fafaae5e",
   "metadata": {},
   "outputs": [
    {
     "data": {
      "image/png": "[encoded data removed]",
      "text/plain": [
       "<Figure size 640x480 with 1 Axes>"
      ]
     },
     "metadata": {},
     "output_type": "display_data"
    }
   ],
   "source": [
    "from sklearn.preprocessing import MinMaxScaler, OneHotEncoder, StandardScaler\n",
    "from sklearn.compose import ColumnTransformer\n",
    "from sklearn.cluster import KMeans\n",
    "\n",
    "df = pd.read_csv('Streaming1.csv')\n",
    "numerical_features = df.select_dtypes(include=['number']).columns.tolist()\n",
    "categorical_features = df.select_dtypes(include=['object']).columns.tolist()\n",
    "\n",
    "# Remove from features\n",
    "categorical_features.remove('Customer_ID')\n",
    "\n",
    "X = df[numerical_features + categorical_features]\n",
    "\n",
    "preprocessor = ColumnTransformer(\n",
    "    transformers=[\n",
    "        ('num', MinMaxScaler(), numerical_features),\n",
    "        ('cat', OneHotEncoder(handle_unknown='ignore'), categorical_features)\n",
    "    ])\n",
    "\n",
    "X_preprocessed = preprocessor.fit_transform(X)\n",
    "\n",
    "# Standardize the preprocessed data\n",
    "scaler = StandardScaler(with_mean=False)\n",
    "\n",
    "inertia = []\n",
    "k_range = range(1, 11)\n",
    "for k in k_range:\n",
    "    kmeans = KMeans(n_clusters = k, random_state = 42)\n",
    "    kmeans.fit(X_preprocessed)\n",
    "    inertia.append(kmeans.inertia_)\n",
    "\n",
    "plt.plot(k_range, inertia, 'bx-')\n",
    "plt.xlabel(\"Number of clusters (k)\")\n",
    "plt.ylabel(\"Inertia\")\n",
    "plt.show()"
   ]
  },
  {
   "cell_type": "code",
   "execution_count": 18,
   "id": "9ba17f3a-16c3-4b0b-a07b-15736a3fbd56",
   "metadata": {},
   "outputs": [
    {
     "name": "stdout",
     "output_type": "stream",
     "text": [
      "[1 0 3 ... 5 0 0]\n"
     ]
    },
    {
     "data": {
      "text/plain": [
       "<Axes: xlabel='Satisfaction_Score', ylabel='Monthly_Spend'>"
      ]
     },
     "execution_count": 18,
     "metadata": {},
     "output_type": "execute_result"
    },
    {
     "data": {
      "image/png": "[encoded data removed]",
      "text/plain": [
       "<Figure size 640x480 with 1 Axes>"
      ]
     },
     "metadata": {},
     "output_type": "display_data"
    }
   ],
   "source": [
    "optimal_k = 6\n",
    "\n",
    "# Fit the final K-Means model\n",
    "kmeans = KMeans(n_clusters=optimal_k, random_state=42)\n",
    "kmeans.fit(X_preprocessed)\n",
    "\n",
    "# Predict the cluster labels for each data point\n",
    "cluster_labels_pred = kmeans.predict(X_preprocessed)\n",
    "\n",
    "# Print the predicted cluster labels\n",
    "print(cluster_labels_pred)\n",
    "\n",
    "sns.scatterplot(data=df, x='Satisfaction_Score', y='Monthly_Spend', hue=cluster_labels_pred)"
   ]
  },
  {
   "cell_type": "markdown",
   "id": "3313bcfb-109f-4830-bae9-93127e239d9f",
   "metadata": {},
   "source": [
    "### (h) Compare the k-Means clustering results from part (g) with another clustering algorithm (e.g., Hierarchical Clustering or DBSCAN).  \n",
    "Which algorithm provides the best segmentation\n",
    "of customer behaviour, and why? Use evaluation metrics to justify your answer."
   ]
  },
  {
   "cell_type": "code",
   "execution_count": 19,
   "id": "d687b06f-2632-4dab-9a6b-12820760935f",
   "metadata": {},
   "outputs": [
    {
     "name": "stdout",
     "output_type": "stream",
     "text": [
      "Davies Bouldin Index: 1.6985\n",
      "Silhouette Coefficient: 0.2429\n"
     ]
    }
   ],
   "source": [
    "from sklearn.metrics import davies_bouldin_score\n",
    "from sklearn.metrics import silhouette_score\n",
    "\n",
    "db_score = davies_bouldin_score(X_preprocessed, cluster_labels_pred)\n",
    "s_score = silhouette_score(X_preprocessed, cluster_labels_pred)\n",
    "\n",
    "print(\"Davies Bouldin Index: %.4f\" % (db_score, ))\n",
    "print(\"Silhouette Coefficient: %.4f\" % (s_score, ))"
   ]
  },
  {
   "cell_type": "markdown",
   "id": "2a058d3d-482f-463d-8573-fab854dbc9cd",
   "metadata": {},
   "source": [
    "Hierarchical Clustering"
   ]
  },
  {
   "cell_type": "code",
   "execution_count": 23,
   "id": "f227fa22-efd7-4279-9b40-3877cf56e308",
   "metadata": {},
   "outputs": [
    {
     "name": "stdout",
     "output_type": "stream",
     "text": [
      "[0 3 3 ... 3 5 3]\n",
      "Davies Bouldin Score: 2.2329\n",
      "Silhouette Score: 0.1274\n"
     ]
    }
   ],
   "source": [
    "from sklearn.cluster import AgglomerativeClustering\n",
    "# Create an instance of the AgglomerativeClustering class, with 3 clusters and complete linkage.\n",
    "agg_model = AgglomerativeClustering(n_clusters = 6, linkage = 'complete')\n",
    "# We can now fit this model to our dataset. The following will both fit the model and output the predicted cluster labels\n",
    "agg_labels_pred = agg_model.fit_predict(X_preprocessed)\n",
    "print(agg_labels_pred)\n",
    "\n",
    "db_score = davies_bouldin_score(X_preprocessed, agg_labels_pred)\n",
    "s_score = silhouette_score(X_preprocessed, agg_labels_pred)\n",
    "\n",
    "print(\"Davies Bouldin Score: %.4f\" % (db_score, ))\n",
    "print(\"Silhouette Score: %.4f\" % (s_score, ))"
   ]
  }
 ],
 "metadata": {
  "kernelspec": {
   "display_name": "Python 3 (ipykernel)",
   "language": "python",
   "name": "python3"
  },
  "language_info": {
   "codemirror_mode": {
    "name": "ipython",
    "version": 3
   },
   "file_extension": ".py",
   "mimetype": "text/x-python",
   "name": "python",
   "nbconvert_exporter": "python",
   "pygments_lexer": "ipython3",
   "version": "3.13.3"
  }
 },
 "nbformat": 4,
 "nbformat_minor": 5
}
